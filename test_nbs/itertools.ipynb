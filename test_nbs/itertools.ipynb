{
 "cells": [
  {
   "cell_type": "markdown",
   "id": "d8353c04-107a-4535-9901-96f2169e16c8",
   "metadata": {},
   "source": [
    "* Ref: https://mathspp.com/blog/module-itertools-overview#reshaping-iterators"
   ]
  },
  {
   "cell_type": "markdown",
   "id": "4cc7fa54-ab69-46f3-86b0-194d3c2eab37",
   "metadata": {},
   "source": [
    "# Product"
   ]
  },
  {
   "cell_type": "code",
   "execution_count": 1,
   "id": "a567c7ae-b208-4f23-9833-52a5d98140d4",
   "metadata": {},
   "outputs": [],
   "source": [
    "from itertools import product"
   ]
  },
  {
   "cell_type": "code",
   "execution_count": 2,
   "id": "f9a0c2b0-3faa-40f3-8369-79121f8f7437",
   "metadata": {},
   "outputs": [
    {
     "name": "stdout",
     "output_type": "stream",
     "text": [
      "a 0 0\ta 0 1\ta 0 0\ta 1 0\ta 1 1\ta 1 0\ta 2 0\ta 2 1\ta 2 0\ta 3 0\ta 3 1\ta 3 0\tb 0 0\tb 0 1\tb 0 0\tb 1 0\tb 1 1\tb 1 0\tb 2 0\tb 2 1\tb 2 0\tb 3 0\tb 3 1\tb 3 0\tc 0 0\tc 0 1\tc 0 0\tc 1 0\tc 1 1\tc 1 0\tc 2 0\tc 2 1\tc 2 0\tc 3 0\tc 3 1\tc 3 0\t"
     ]
    }
   ],
   "source": [
    "x = 'abc'\n",
    "y = range(0, 4)\n",
    "z = '010'\n",
    "\n",
    "for i, j, k in product(x,y,z):\n",
    "    print(i,j,k, end='\\t')\n",
    "\n",
    "# instead of\n",
    "# for i in x:\n",
    "#     for j in y:\n",
    "#         print(i,j)"
   ]
  },
  {
   "cell_type": "code",
   "execution_count": null,
   "id": "bb746011-2364-431c-8847-f92dc3336e77",
   "metadata": {},
   "outputs": [],
   "source": []
  },
  {
   "cell_type": "markdown",
   "id": "54ab6959-e5c0-4eb5-9d45-a18d162d0c43",
   "metadata": {},
   "source": [
    "# chain"
   ]
  },
  {
   "cell_type": "code",
   "execution_count": 3,
   "id": "a3c65dc0-8957-43d7-804e-a750d2f49f2b",
   "metadata": {},
   "outputs": [],
   "source": [
    "from itertools import chain"
   ]
  },
  {
   "cell_type": "code",
   "execution_count": 4,
   "id": "efcd87a4-d843-459f-ac44-acf27dd457ed",
   "metadata": {},
   "outputs": [
    {
     "name": "stdout",
     "output_type": "stream",
     "text": [
      "a\n",
      "b\n",
      "c\n",
      "0\n",
      "1\n",
      "2\n",
      "3\n"
     ]
    }
   ],
   "source": [
    "z = list(x) + list(y)\n",
    "for elem in z:\n",
    "    print(elem)"
   ]
  },
  {
   "cell_type": "code",
   "execution_count": 5,
   "id": "992ae88a-903f-4e5c-bb1e-e022cfcb57c9",
   "metadata": {},
   "outputs": [
    {
     "name": "stdout",
     "output_type": "stream",
     "text": [
      "a b c 0 1 2 3 "
     ]
    }
   ],
   "source": [
    "# instead\n",
    "for elem in chain(x,y):\n",
    "    print(elem, end=' ')"
   ]
  },
  {
   "cell_type": "markdown",
   "id": "71fb3a3a-57f0-48ee-8355-fcbfdb09c0a5",
   "metadata": {},
   "source": [
    "* works with more than 2 iterables"
   ]
  },
  {
   "cell_type": "markdown",
   "id": "d30cdd52-3cf3-4217-b3b4-1537c9ad5e4c",
   "metadata": {},
   "source": [
    "## To flatten a list of lists"
   ]
  },
  {
   "cell_type": "code",
   "execution_count": 6,
   "id": "66644d33-eccb-48e1-908b-71c944f87bcb",
   "metadata": {},
   "outputs": [
    {
     "name": "stdout",
     "output_type": "stream",
     "text": [
      "[1, 2, 3, 4, 5, 6]\n"
     ]
    }
   ],
   "source": [
    "nested = [[1, 2, 3], [4], [], [5, 6]]\n",
    "flat = list(chain.from_iterable(nested))\n",
    "print(flat)"
   ]
  },
  {
   "cell_type": "code",
   "execution_count": 22,
   "id": "219e7ec6-38a8-444a-ac11-fe05adf8c9b9",
   "metadata": {},
   "outputs": [
    {
     "name": "stdout",
     "output_type": "stream",
     "text": [
      "[1, 2, 3, 4, [5, 6]]\n"
     ]
    }
   ],
   "source": [
    "nested = [[1, 2, 3], [4], [], [[5, 6]]]\n",
    "flat = list(chain.from_iterable(nested))\n",
    "print(flat)"
   ]
  },
  {
   "cell_type": "code",
   "execution_count": null,
   "id": "1e8e40e0-cb1e-42b4-9add-364aa258c495",
   "metadata": {},
   "outputs": [],
   "source": []
  },
  {
   "cell_type": "markdown",
   "id": "7e9abb26-12a8-4cfd-a510-836462988d06",
   "metadata": {},
   "source": [
    "# pairwise"
   ]
  },
  {
   "cell_type": "code",
   "execution_count": 7,
   "id": "e5ada91e-cea7-4d49-b73d-3ee93ac84b8e",
   "metadata": {},
   "outputs": [],
   "source": [
    "from itertools import pairwise"
   ]
  },
  {
   "cell_type": "code",
   "execution_count": 8,
   "id": "640adb33-99f3-41d4-81ff-d2491a26d108",
   "metadata": {},
   "outputs": [],
   "source": [
    "y = ['a', 'b', 'c', 'd', 'e']"
   ]
  },
  {
   "cell_type": "code",
   "execution_count": 9,
   "id": "3592a32f-e9b6-4058-98e8-56f524f9ad70",
   "metadata": {},
   "outputs": [
    {
     "name": "stdout",
     "output_type": "stream",
     "text": [
      "a-b\n",
      "b-c\n",
      "c-d\n",
      "d-e\n"
     ]
    }
   ],
   "source": [
    "# instead of\n",
    "for i, j in zip(y[:-1], y[1:]):\n",
    "    print(f'{i}-{j}')"
   ]
  },
  {
   "cell_type": "code",
   "execution_count": 10,
   "id": "81897652-580e-4ea1-b9a6-443d0691058c",
   "metadata": {},
   "outputs": [
    {
     "name": "stdout",
     "output_type": "stream",
     "text": [
      "a-b\n",
      "b-c\n",
      "c-d\n",
      "d-e\n"
     ]
    }
   ],
   "source": [
    "for i, j in pairwise(y):\n",
    "    print(f'{i}-{j}')"
   ]
  },
  {
   "cell_type": "code",
   "execution_count": null,
   "id": "8620050f-cdbd-4618-b5c0-2e95e1874e0f",
   "metadata": {},
   "outputs": [],
   "source": []
  },
  {
   "cell_type": "markdown",
   "id": "b04ccf95-0ba7-4527-999d-9dd6459c6f89",
   "metadata": {},
   "source": [
    "# islice\n",
    "\n",
    "* Returns an iterator"
   ]
  },
  {
   "cell_type": "code",
   "execution_count": 11,
   "id": "707d5a13-1017-46ad-988a-5e7684298182",
   "metadata": {},
   "outputs": [],
   "source": [
    "from itertools import islice"
   ]
  },
  {
   "cell_type": "code",
   "execution_count": 12,
   "id": "90c1499b-1709-413a-9b80-67923c920316",
   "metadata": {},
   "outputs": [
    {
     "data": {
      "text/plain": [
       "<itertools.islice at 0x7548bc7c6d90>"
      ]
     },
     "execution_count": 12,
     "metadata": {},
     "output_type": "execute_result"
    }
   ],
   "source": [
    "islice(y, 0,4,2)"
   ]
  },
  {
   "cell_type": "code",
   "execution_count": 13,
   "id": "ed81fedb-8358-44c0-8139-f7690c613790",
   "metadata": {},
   "outputs": [
    {
     "name": "stdout",
     "output_type": "stream",
     "text": [
      "a\n",
      "c\n"
     ]
    }
   ],
   "source": [
    "for elem in islice(y, 0,4,2):\n",
    "    print(elem)"
   ]
  },
  {
   "cell_type": "code",
   "execution_count": 14,
   "id": "ebffef35-ee96-4193-b574-4f5eb3fb71cb",
   "metadata": {},
   "outputs": [
    {
     "data": {
      "text/plain": [
       "['a', 'c']"
      ]
     },
     "execution_count": 14,
     "metadata": {},
     "output_type": "execute_result"
    }
   ],
   "source": [
    "list(y[0:4:2])"
   ]
  },
  {
   "cell_type": "code",
   "execution_count": null,
   "id": "61cf6f78-e084-422d-956a-ee868aab0fab",
   "metadata": {},
   "outputs": [],
   "source": []
  },
  {
   "cell_type": "markdown",
   "id": "c18f6797-aa5f-495d-b170-f16a7cd75533",
   "metadata": {},
   "source": [
    "# groupby"
   ]
  },
  {
   "cell_type": "code",
   "execution_count": 15,
   "id": "91ec06d5-17ed-4b69-9fcd-7c32aa2480ca",
   "metadata": {},
   "outputs": [],
   "source": [
    "from itertools import groupby"
   ]
  },
  {
   "cell_type": "code",
   "execution_count": 16,
   "id": "ece01e5f-251d-4fe8-b37f-e24877f84995",
   "metadata": {},
   "outputs": [],
   "source": [
    "game_results = \"WWWLLWWWWLWWWWWWL\""
   ]
  },
  {
   "cell_type": "code",
   "execution_count": 18,
   "id": "865fbe00-2a62-42e6-b169-ae6e6630e522",
   "metadata": {},
   "outputs": [
    {
     "name": "stdout",
     "output_type": "stream",
     "text": [
      "W ['W', 'W', 'W']\n",
      "L ['L', 'L']\n",
      "W ['W', 'W', 'W', 'W']\n",
      "L ['L']\n",
      "W ['W', 'W', 'W', 'W', 'W', 'W']\n",
      "L ['L']\n"
     ]
    }
   ],
   "source": [
    "for key, streak in groupby(game_results):\n",
    "    print(key, list(streak))"
   ]
  },
  {
   "cell_type": "code",
   "execution_count": 36,
   "id": "9cc5e536-f7eb-4ac7-8249-0023cfc4666f",
   "metadata": {},
   "outputs": [],
   "source": [
    "win_streak_list = []\n",
    "for key, streak in groupby(game_results):\n",
    "\n",
    "    if key=='W':\n",
    "        win_streak_list.append(len(list(streak)))\n",
    "        \n",
    "longest_streak = max(win_streak_list)"
   ]
  },
  {
   "cell_type": "code",
   "execution_count": 35,
   "id": "f05554cd-aed0-4d17-b798-b279d3df92d4",
   "metadata": {},
   "outputs": [
    {
     "data": {
      "text/plain": [
       "6"
      ]
     },
     "execution_count": 35,
     "metadata": {},
     "output_type": "execute_result"
    }
   ],
   "source": [
    "longest_streak"
   ]
  },
  {
   "cell_type": "markdown",
   "id": "c745dac5-2d93-4190-b148-80c80c308caf",
   "metadata": {},
   "source": [
    "# filterfalse"
   ]
  },
  {
   "cell_type": "code",
   "execution_count": 19,
   "id": "159b6121-85de-4635-872a-400221d23a54",
   "metadata": {},
   "outputs": [],
   "source": [
    "from itertools import filterfalse"
   ]
  },
  {
   "cell_type": "code",
   "execution_count": 25,
   "id": "b8408098-ee69-4796-aefa-aadc5f832cff",
   "metadata": {},
   "outputs": [],
   "source": [
    "people = [\n",
    "    (\"Harry\", 17),\n",
    "    (\"Anne\", 21),\n",
    "    (\"George\", 5),\n",
    "]"
   ]
  },
  {
   "cell_type": "code",
   "execution_count": 21,
   "id": "4259ee21-189f-4944-9517-398b5faae3ba",
   "metadata": {},
   "outputs": [
    {
     "name": "stdout",
     "output_type": "stream",
     "text": [
      "Anne 21; "
     ]
    }
   ],
   "source": [
    "for name, age in filterfalse(lambda elem: elem[1] < 18, people):\n",
    "\n",
    "    print(name, age, end=\"; \")"
   ]
  },
  {
   "cell_type": "code",
   "execution_count": null,
   "id": "19cdeb98-2a7a-4b83-8f47-6449ffb91fee",
   "metadata": {},
   "outputs": [],
   "source": []
  },
  {
   "cell_type": "markdown",
   "id": "a552cc84-ea39-4e5d-8731-d76a54eeb9f9",
   "metadata": {},
   "source": [
    "# takewhile"
   ]
  },
  {
   "cell_type": "code",
   "execution_count": 22,
   "id": "cf0dd9d2-9d01-44d6-a7bc-4031175ad517",
   "metadata": {},
   "outputs": [],
   "source": [
    "from itertools import takewhile"
   ]
  },
  {
   "cell_type": "code",
   "execution_count": 27,
   "id": "c879a246-5609-4c26-ad01-43fbf3423120",
   "metadata": {},
   "outputs": [
    {
     "name": "stdout",
     "output_type": "stream",
     "text": [
      "('Harry', 17)\n"
     ]
    }
   ],
   "source": [
    "for elem in takewhile(lambda elem: elem[1] < 18, people):\n",
    "\n",
    "    print(elem)"
   ]
  },
  {
   "cell_type": "code",
   "execution_count": 30,
   "id": "18793ab9-24af-46c2-a1ea-c82043ccfbe5",
   "metadata": {},
   "outputs": [
    {
     "name": "stdout",
     "output_type": "stream",
     "text": [
      "Magnus Carlsen, "
     ]
    }
   ],
   "source": [
    "# Top chess grandmasters and ratings (July 2024)\n",
    "grandmasters = [\n",
    "    (\"Magnus Carlsen\", 2832),\n",
    "    \n",
    "    (\"Fabiano Caruana\", 2796),\n",
    "    (\"Arjun Erigaisi\", 2778),\n",
    "    (\"Ian Nepomniachtchi\", 2770),\n",
    "    (\"Hikaru Nakamura\", 2802),\n",
    "]\n",
    "\n",
    "# Take grandmasters with rating above 2800:\n",
    "for gm in takewhile(lambda gm: gm[1] > 2800, grandmasters):\n",
    "    print(gm[0], end=\", \")  # Magnus Carlsen, Hikaru Nakamura,"
   ]
  },
  {
   "cell_type": "markdown",
   "id": "93955b96-8e42-48fd-ae47-d239a5a68d9e",
   "metadata": {},
   "source": [
    "## NOTE\n",
    "\n",
    "* Returns only the first element that satisfies the condition"
   ]
  },
  {
   "cell_type": "code",
   "execution_count": null,
   "id": "1f145848-84b4-4c03-89fd-f1d3097f73d2",
   "metadata": {},
   "outputs": [],
   "source": []
  },
  {
   "cell_type": "markdown",
   "id": "840bad1f-3ac9-47c0-ad99-d24a6a130197",
   "metadata": {},
   "source": [
    "# filter"
   ]
  },
  {
   "cell_type": "code",
   "execution_count": 31,
   "id": "b7d56500-7969-4e29-bda5-5f54dea40514",
   "metadata": {},
   "outputs": [
    {
     "name": "stdout",
     "output_type": "stream",
     "text": [
      "Harry 17; George 5; "
     ]
    }
   ],
   "source": [
    "for name, age in filter(lambda x: x[1] < 18, people):\n",
    "    print(name, age, end='; ')"
   ]
  },
  {
   "cell_type": "code",
   "execution_count": null,
   "id": "c4a1c42a-5c7f-4202-89fd-f77f5d71e388",
   "metadata": {},
   "outputs": [],
   "source": []
  },
  {
   "cell_type": "markdown",
   "id": "9befdb0d-1fa3-4889-b76e-4459358276c0",
   "metadata": {},
   "source": [
    "# dropwhile"
   ]
  },
  {
   "cell_type": "code",
   "execution_count": 32,
   "id": "0ae60d8e-7a26-4cdb-b788-9a7481825356",
   "metadata": {},
   "outputs": [],
   "source": [
    "from itertools import dropwhile"
   ]
  },
  {
   "cell_type": "code",
   "execution_count": 33,
   "id": "57b8f508-7470-40d1-a3da-f6254160cccb",
   "metadata": {},
   "outputs": [
    {
     "name": "stdout",
     "output_type": "stream",
     "text": [
      "Anne 21; George 5; "
     ]
    }
   ],
   "source": [
    "for name, age in dropwhile(lambda x: x[1] < 18, people):\n",
    "    print(name, age, end='; ')"
   ]
  },
  {
   "cell_type": "markdown",
   "id": "def2a4f3-0c1d-4435-a9dd-e0c9bbbf6e03",
   "metadata": {},
   "source": [
    "## NOTE:\n",
    "* Similar to takewhile, dropwhile drops the first element where the condition is met and returns everything else"
   ]
  },
  {
   "cell_type": "code",
   "execution_count": null,
   "id": "61c453b7-2fa2-467c-ad02-490acd27fa3c",
   "metadata": {},
   "outputs": [],
   "source": []
  }
 ],
 "metadata": {
  "kernelspec": {
   "display_name": "opendatasciencesandbox",
   "language": "python",
   "name": "opendatasciencesandbox"
  },
  "language_info": {
   "codemirror_mode": {
    "name": "ipython",
    "version": 3
   },
   "file_extension": ".py",
   "mimetype": "text/x-python",
   "name": "python",
   "nbconvert_exporter": "python",
   "pygments_lexer": "ipython3",
   "version": "3.11.11"
  }
 },
 "nbformat": 4,
 "nbformat_minor": 5
}
