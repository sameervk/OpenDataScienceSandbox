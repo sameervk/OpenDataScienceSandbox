{
 "cells": [
  {
   "cell_type": "code",
   "execution_count": 1,
   "id": "3d2ab3b9-99d4-4833-86b1-7b87be7448a4",
   "metadata": {},
   "outputs": [],
   "source": [
    "import numpy as np\n",
    "import pandas as pd\n",
    "import seaborn as sns\n",
    "import matplotlib.pyplot as plt\n",
    "import scipy as sp"
   ]
  },
  {
   "cell_type": "markdown",
   "id": "5f875cdb-5cbd-43be-b5cf-eb0e90cea55f",
   "metadata": {},
   "source": [
    "# Import data"
   ]
  },
  {
   "cell_type": "code",
   "execution_count": 2,
   "id": "c8aff785-6a69-4e34-9fcd-f8282ce82a8c",
   "metadata": {},
   "outputs": [],
   "source": [
    "data_uri = \"https://noaadata.apps.nsidc.org/NOAA/G02135/seaice_analysis/Sea_Ice_Index_Daily_Extent_G02135_v3.0.xlsx\""
   ]
  },
  {
   "cell_type": "code",
   "execution_count": 3,
   "id": "e1be174b-f7c0-48fd-a2d0-91a21d96f1d5",
   "metadata": {},
   "outputs": [
    {
     "data": {
      "text/html": [
       "<div>\n",
       "<style scoped>\n",
       "    .dataframe tbody tr th:only-of-type {\n",
       "        vertical-align: middle;\n",
       "    }\n",
       "\n",
       "    .dataframe tbody tr th {\n",
       "        vertical-align: top;\n",
       "    }\n",
       "\n",
       "    .dataframe thead th {\n",
       "        text-align: right;\n",
       "    }\n",
       "</style>\n",
       "<table border=\"1\" class=\"dataframe\">\n",
       "  <thead>\n",
       "    <tr style=\"text-align: right;\">\n",
       "      <th></th>\n",
       "      <th>Unnamed: 0</th>\n",
       "      <th>Unnamed: 1</th>\n",
       "      <th>1978</th>\n",
       "      <th>1979</th>\n",
       "      <th>1980</th>\n",
       "      <th>1981</th>\n",
       "      <th>1982</th>\n",
       "      <th>1983</th>\n",
       "      <th>1984</th>\n",
       "      <th>1985</th>\n",
       "      <th>...</th>\n",
       "      <th>2019</th>\n",
       "      <th>2020</th>\n",
       "      <th>2021</th>\n",
       "      <th>2022</th>\n",
       "      <th>2023</th>\n",
       "      <th>2024</th>\n",
       "      <th>2025</th>\n",
       "      <th></th>\n",
       "      <th>1981-2010 mean</th>\n",
       "      <th>1981-2010 median</th>\n",
       "    </tr>\n",
       "  </thead>\n",
       "  <tbody>\n",
       "    <tr>\n",
       "      <th>0</th>\n",
       "      <td>January</td>\n",
       "      <td>1</td>\n",
       "      <td>NaN</td>\n",
       "      <td>NaN</td>\n",
       "      <td>14.200</td>\n",
       "      <td>14.256</td>\n",
       "      <td>NaN</td>\n",
       "      <td>14.253</td>\n",
       "      <td>NaN</td>\n",
       "      <td>NaN</td>\n",
       "      <td>...</td>\n",
       "      <td>12.934</td>\n",
       "      <td>13.046</td>\n",
       "      <td>12.711</td>\n",
       "      <td>13.291</td>\n",
       "      <td>12.734</td>\n",
       "      <td>13.206</td>\n",
       "      <td>12.510</td>\n",
       "      <td>NaN</td>\n",
       "      <td>13.778</td>\n",
       "      <td>13.823</td>\n",
       "    </tr>\n",
       "    <tr>\n",
       "      <th>1</th>\n",
       "      <td>NaN</td>\n",
       "      <td>2</td>\n",
       "      <td>NaN</td>\n",
       "      <td>14.997</td>\n",
       "      <td>NaN</td>\n",
       "      <td>NaN</td>\n",
       "      <td>14.479</td>\n",
       "      <td>NaN</td>\n",
       "      <td>14.103</td>\n",
       "      <td>14.045</td>\n",
       "      <td>...</td>\n",
       "      <td>12.992</td>\n",
       "      <td>13.072</td>\n",
       "      <td>12.710</td>\n",
       "      <td>13.392</td>\n",
       "      <td>12.724</td>\n",
       "      <td>13.300</td>\n",
       "      <td>12.525</td>\n",
       "      <td>NaN</td>\n",
       "      <td>13.842</td>\n",
       "      <td>13.886</td>\n",
       "    </tr>\n",
       "    <tr>\n",
       "      <th>2</th>\n",
       "      <td>NaN</td>\n",
       "      <td>3</td>\n",
       "      <td>NaN</td>\n",
       "      <td>NaN</td>\n",
       "      <td>14.302</td>\n",
       "      <td>14.456</td>\n",
       "      <td>NaN</td>\n",
       "      <td>14.306</td>\n",
       "      <td>NaN</td>\n",
       "      <td>NaN</td>\n",
       "      <td>...</td>\n",
       "      <td>12.980</td>\n",
       "      <td>13.170</td>\n",
       "      <td>12.799</td>\n",
       "      <td>13.354</td>\n",
       "      <td>12.717</td>\n",
       "      <td>13.429</td>\n",
       "      <td>12.524</td>\n",
       "      <td>NaN</td>\n",
       "      <td>13.891</td>\n",
       "      <td>13.884</td>\n",
       "    </tr>\n",
       "    <tr>\n",
       "      <th>3</th>\n",
       "      <td>NaN</td>\n",
       "      <td>4</td>\n",
       "      <td>NaN</td>\n",
       "      <td>14.922</td>\n",
       "      <td>NaN</td>\n",
       "      <td>NaN</td>\n",
       "      <td>14.642</td>\n",
       "      <td>NaN</td>\n",
       "      <td>14.237</td>\n",
       "      <td>14.240</td>\n",
       "      <td>...</td>\n",
       "      <td>13.045</td>\n",
       "      <td>13.193</td>\n",
       "      <td>12.834</td>\n",
       "      <td>13.440</td>\n",
       "      <td>12.786</td>\n",
       "      <td>13.449</td>\n",
       "      <td>12.432</td>\n",
       "      <td>NaN</td>\n",
       "      <td>13.930</td>\n",
       "      <td>13.925</td>\n",
       "    </tr>\n",
       "    <tr>\n",
       "      <th>4</th>\n",
       "      <td>NaN</td>\n",
       "      <td>5</td>\n",
       "      <td>NaN</td>\n",
       "      <td>NaN</td>\n",
       "      <td>14.414</td>\n",
       "      <td>14.435</td>\n",
       "      <td>NaN</td>\n",
       "      <td>14.494</td>\n",
       "      <td>NaN</td>\n",
       "      <td>NaN</td>\n",
       "      <td>...</td>\n",
       "      <td>13.147</td>\n",
       "      <td>13.166</td>\n",
       "      <td>12.862</td>\n",
       "      <td>13.496</td>\n",
       "      <td>12.841</td>\n",
       "      <td>13.590</td>\n",
       "      <td>12.522</td>\n",
       "      <td>NaN</td>\n",
       "      <td>13.978</td>\n",
       "      <td>14.036</td>\n",
       "    </tr>\n",
       "    <tr>\n",
       "      <th>5</th>\n",
       "      <td>NaN</td>\n",
       "      <td>6</td>\n",
       "      <td>NaN</td>\n",
       "      <td>14.929</td>\n",
       "      <td>NaN</td>\n",
       "      <td>NaN</td>\n",
       "      <td>14.880</td>\n",
       "      <td>NaN</td>\n",
       "      <td>14.262</td>\n",
       "      <td>14.406</td>\n",
       "      <td>...</td>\n",
       "      <td>13.316</td>\n",
       "      <td>13.195</td>\n",
       "      <td>12.917</td>\n",
       "      <td>13.573</td>\n",
       "      <td>12.875</td>\n",
       "      <td>13.704</td>\n",
       "      <td>12.665</td>\n",
       "      <td>NaN</td>\n",
       "      <td>14.028</td>\n",
       "      <td>14.139</td>\n",
       "    </tr>\n",
       "    <tr>\n",
       "      <th>6</th>\n",
       "      <td>NaN</td>\n",
       "      <td>7</td>\n",
       "      <td>NaN</td>\n",
       "      <td>NaN</td>\n",
       "      <td>14.518</td>\n",
       "      <td>14.689</td>\n",
       "      <td>NaN</td>\n",
       "      <td>14.467</td>\n",
       "      <td>NaN</td>\n",
       "      <td>NaN</td>\n",
       "      <td>...</td>\n",
       "      <td>13.282</td>\n",
       "      <td>13.202</td>\n",
       "      <td>13.024</td>\n",
       "      <td>13.591</td>\n",
       "      <td>12.998</td>\n",
       "      <td>13.879</td>\n",
       "      <td>12.801</td>\n",
       "      <td>NaN</td>\n",
       "      <td>14.091</td>\n",
       "      <td>14.188</td>\n",
       "    </tr>\n",
       "    <tr>\n",
       "      <th>7</th>\n",
       "      <td>NaN</td>\n",
       "      <td>8</td>\n",
       "      <td>NaN</td>\n",
       "      <td>14.968</td>\n",
       "      <td>NaN</td>\n",
       "      <td>NaN</td>\n",
       "      <td>14.993</td>\n",
       "      <td>NaN</td>\n",
       "      <td>14.303</td>\n",
       "      <td>14.432</td>\n",
       "      <td>...</td>\n",
       "      <td>13.236</td>\n",
       "      <td>13.295</td>\n",
       "      <td>13.039</td>\n",
       "      <td>13.676</td>\n",
       "      <td>13.205</td>\n",
       "      <td>13.754</td>\n",
       "      <td>12.816</td>\n",
       "      <td>NaN</td>\n",
       "      <td>14.132</td>\n",
       "      <td>14.303</td>\n",
       "    </tr>\n",
       "    <tr>\n",
       "      <th>8</th>\n",
       "      <td>NaN</td>\n",
       "      <td>9</td>\n",
       "      <td>NaN</td>\n",
       "      <td>NaN</td>\n",
       "      <td>14.594</td>\n",
       "      <td>14.619</td>\n",
       "      <td>NaN</td>\n",
       "      <td>14.615</td>\n",
       "      <td>NaN</td>\n",
       "      <td>NaN</td>\n",
       "      <td>...</td>\n",
       "      <td>13.458</td>\n",
       "      <td>13.248</td>\n",
       "      <td>13.078</td>\n",
       "      <td>13.668</td>\n",
       "      <td>13.177</td>\n",
       "      <td>13.778</td>\n",
       "      <td>12.922</td>\n",
       "      <td>NaN</td>\n",
       "      <td>14.170</td>\n",
       "      <td>14.310</td>\n",
       "    </tr>\n",
       "    <tr>\n",
       "      <th>9</th>\n",
       "      <td>NaN</td>\n",
       "      <td>10</td>\n",
       "      <td>NaN</td>\n",
       "      <td>15.190</td>\n",
       "      <td>NaN</td>\n",
       "      <td>NaN</td>\n",
       "      <td>15.052</td>\n",
       "      <td>NaN</td>\n",
       "      <td>14.387</td>\n",
       "      <td>14.455</td>\n",
       "      <td>...</td>\n",
       "      <td>13.383</td>\n",
       "      <td>13.216</td>\n",
       "      <td>13.179</td>\n",
       "      <td>13.651</td>\n",
       "      <td>13.204</td>\n",
       "      <td>13.885</td>\n",
       "      <td>13.010</td>\n",
       "      <td>NaN</td>\n",
       "      <td>14.196</td>\n",
       "      <td>14.240</td>\n",
       "    </tr>\n",
       "  </tbody>\n",
       "</table>\n",
       "<p>10 rows × 53 columns</p>\n",
       "</div>"
      ],
      "text/plain": [
       "  Unnamed: 0  Unnamed: 1  1978    1979    1980    1981    1982    1983  \\\n",
       "0    January           1   NaN     NaN  14.200  14.256     NaN  14.253   \n",
       "1        NaN           2   NaN  14.997     NaN     NaN  14.479     NaN   \n",
       "2        NaN           3   NaN     NaN  14.302  14.456     NaN  14.306   \n",
       "3        NaN           4   NaN  14.922     NaN     NaN  14.642     NaN   \n",
       "4        NaN           5   NaN     NaN  14.414  14.435     NaN  14.494   \n",
       "5        NaN           6   NaN  14.929     NaN     NaN  14.880     NaN   \n",
       "6        NaN           7   NaN     NaN  14.518  14.689     NaN  14.467   \n",
       "7        NaN           8   NaN  14.968     NaN     NaN  14.993     NaN   \n",
       "8        NaN           9   NaN     NaN  14.594  14.619     NaN  14.615   \n",
       "9        NaN          10   NaN  15.190     NaN     NaN  15.052     NaN   \n",
       "\n",
       "     1984    1985  ...    2019    2020    2021    2022    2023    2024  \\\n",
       "0     NaN     NaN  ...  12.934  13.046  12.711  13.291  12.734  13.206   \n",
       "1  14.103  14.045  ...  12.992  13.072  12.710  13.392  12.724  13.300   \n",
       "2     NaN     NaN  ...  12.980  13.170  12.799  13.354  12.717  13.429   \n",
       "3  14.237  14.240  ...  13.045  13.193  12.834  13.440  12.786  13.449   \n",
       "4     NaN     NaN  ...  13.147  13.166  12.862  13.496  12.841  13.590   \n",
       "5  14.262  14.406  ...  13.316  13.195  12.917  13.573  12.875  13.704   \n",
       "6     NaN     NaN  ...  13.282  13.202  13.024  13.591  12.998  13.879   \n",
       "7  14.303  14.432  ...  13.236  13.295  13.039  13.676  13.205  13.754   \n",
       "8     NaN     NaN  ...  13.458  13.248  13.078  13.668  13.177  13.778   \n",
       "9  14.387  14.455  ...  13.383  13.216  13.179  13.651  13.204  13.885   \n",
       "\n",
       "     2025      1981-2010 mean  1981-2010 median  \n",
       "0  12.510 NaN          13.778            13.823  \n",
       "1  12.525 NaN          13.842            13.886  \n",
       "2  12.524 NaN          13.891            13.884  \n",
       "3  12.432 NaN          13.930            13.925  \n",
       "4  12.522 NaN          13.978            14.036  \n",
       "5  12.665 NaN          14.028            14.139  \n",
       "6  12.801 NaN          14.091            14.188  \n",
       "7  12.816 NaN          14.132            14.303  \n",
       "8  12.922 NaN          14.170            14.310  \n",
       "9  13.010 NaN          14.196            14.240  \n",
       "\n",
       "[10 rows x 53 columns]"
      ]
     },
     "execution_count": 3,
     "metadata": {},
     "output_type": "execute_result"
    }
   ],
   "source": [
    "df = pd.read_excel(data_uri, header=0)\n",
    "df.head(10)"
   ]
  },
  {
   "cell_type": "code",
   "execution_count": 8,
   "id": "f8d6a233-50d2-4449-9d69-0a716eb23392",
   "metadata": {},
   "outputs": [],
   "source": [
    "df.rename(columns={df.columns[0]:\"Month\", df.columns[1]:\"Day\"}, inplace=True)"
   ]
  },
  {
   "cell_type": "code",
   "execution_count": 9,
   "id": "aafdcc0a-de32-4cbd-ac16-6b424b6757e6",
   "metadata": {},
   "outputs": [
    {
     "data": {
      "text/html": [
       "<div>\n",
       "<style scoped>\n",
       "    .dataframe tbody tr th:only-of-type {\n",
       "        vertical-align: middle;\n",
       "    }\n",
       "\n",
       "    .dataframe tbody tr th {\n",
       "        vertical-align: top;\n",
       "    }\n",
       "\n",
       "    .dataframe thead th {\n",
       "        text-align: right;\n",
       "    }\n",
       "</style>\n",
       "<table border=\"1\" class=\"dataframe\">\n",
       "  <thead>\n",
       "    <tr style=\"text-align: right;\">\n",
       "      <th></th>\n",
       "      <th>Month</th>\n",
       "      <th>Day</th>\n",
       "      <th>1978</th>\n",
       "      <th>1979</th>\n",
       "      <th>1980</th>\n",
       "      <th>1981</th>\n",
       "      <th>1982</th>\n",
       "      <th>1983</th>\n",
       "      <th>1984</th>\n",
       "      <th>1985</th>\n",
       "      <th>...</th>\n",
       "      <th>2019</th>\n",
       "      <th>2020</th>\n",
       "      <th>2021</th>\n",
       "      <th>2022</th>\n",
       "      <th>2023</th>\n",
       "      <th>2024</th>\n",
       "      <th>2025</th>\n",
       "      <th></th>\n",
       "      <th>1981-2010 mean</th>\n",
       "      <th>1981-2010 median</th>\n",
       "    </tr>\n",
       "  </thead>\n",
       "  <tbody>\n",
       "    <tr>\n",
       "      <th>0</th>\n",
       "      <td>January</td>\n",
       "      <td>1</td>\n",
       "      <td>NaN</td>\n",
       "      <td>NaN</td>\n",
       "      <td>14.200</td>\n",
       "      <td>14.256</td>\n",
       "      <td>NaN</td>\n",
       "      <td>14.253</td>\n",
       "      <td>NaN</td>\n",
       "      <td>NaN</td>\n",
       "      <td>...</td>\n",
       "      <td>12.934</td>\n",
       "      <td>13.046</td>\n",
       "      <td>12.711</td>\n",
       "      <td>13.291</td>\n",
       "      <td>12.734</td>\n",
       "      <td>13.206</td>\n",
       "      <td>12.510</td>\n",
       "      <td>NaN</td>\n",
       "      <td>13.778</td>\n",
       "      <td>13.823</td>\n",
       "    </tr>\n",
       "    <tr>\n",
       "      <th>1</th>\n",
       "      <td>NaN</td>\n",
       "      <td>2</td>\n",
       "      <td>NaN</td>\n",
       "      <td>14.997</td>\n",
       "      <td>NaN</td>\n",
       "      <td>NaN</td>\n",
       "      <td>14.479</td>\n",
       "      <td>NaN</td>\n",
       "      <td>14.103</td>\n",
       "      <td>14.045</td>\n",
       "      <td>...</td>\n",
       "      <td>12.992</td>\n",
       "      <td>13.072</td>\n",
       "      <td>12.710</td>\n",
       "      <td>13.392</td>\n",
       "      <td>12.724</td>\n",
       "      <td>13.300</td>\n",
       "      <td>12.525</td>\n",
       "      <td>NaN</td>\n",
       "      <td>13.842</td>\n",
       "      <td>13.886</td>\n",
       "    </tr>\n",
       "    <tr>\n",
       "      <th>2</th>\n",
       "      <td>NaN</td>\n",
       "      <td>3</td>\n",
       "      <td>NaN</td>\n",
       "      <td>NaN</td>\n",
       "      <td>14.302</td>\n",
       "      <td>14.456</td>\n",
       "      <td>NaN</td>\n",
       "      <td>14.306</td>\n",
       "      <td>NaN</td>\n",
       "      <td>NaN</td>\n",
       "      <td>...</td>\n",
       "      <td>12.980</td>\n",
       "      <td>13.170</td>\n",
       "      <td>12.799</td>\n",
       "      <td>13.354</td>\n",
       "      <td>12.717</td>\n",
       "      <td>13.429</td>\n",
       "      <td>12.524</td>\n",
       "      <td>NaN</td>\n",
       "      <td>13.891</td>\n",
       "      <td>13.884</td>\n",
       "    </tr>\n",
       "    <tr>\n",
       "      <th>3</th>\n",
       "      <td>NaN</td>\n",
       "      <td>4</td>\n",
       "      <td>NaN</td>\n",
       "      <td>14.922</td>\n",
       "      <td>NaN</td>\n",
       "      <td>NaN</td>\n",
       "      <td>14.642</td>\n",
       "      <td>NaN</td>\n",
       "      <td>14.237</td>\n",
       "      <td>14.240</td>\n",
       "      <td>...</td>\n",
       "      <td>13.045</td>\n",
       "      <td>13.193</td>\n",
       "      <td>12.834</td>\n",
       "      <td>13.440</td>\n",
       "      <td>12.786</td>\n",
       "      <td>13.449</td>\n",
       "      <td>12.432</td>\n",
       "      <td>NaN</td>\n",
       "      <td>13.930</td>\n",
       "      <td>13.925</td>\n",
       "    </tr>\n",
       "    <tr>\n",
       "      <th>4</th>\n",
       "      <td>NaN</td>\n",
       "      <td>5</td>\n",
       "      <td>NaN</td>\n",
       "      <td>NaN</td>\n",
       "      <td>14.414</td>\n",
       "      <td>14.435</td>\n",
       "      <td>NaN</td>\n",
       "      <td>14.494</td>\n",
       "      <td>NaN</td>\n",
       "      <td>NaN</td>\n",
       "      <td>...</td>\n",
       "      <td>13.147</td>\n",
       "      <td>13.166</td>\n",
       "      <td>12.862</td>\n",
       "      <td>13.496</td>\n",
       "      <td>12.841</td>\n",
       "      <td>13.590</td>\n",
       "      <td>12.522</td>\n",
       "      <td>NaN</td>\n",
       "      <td>13.978</td>\n",
       "      <td>14.036</td>\n",
       "    </tr>\n",
       "  </tbody>\n",
       "</table>\n",
       "<p>5 rows × 53 columns</p>\n",
       "</div>"
      ],
      "text/plain": [
       "     Month  Day  1978    1979    1980    1981    1982    1983    1984    1985  \\\n",
       "0  January    1   NaN     NaN  14.200  14.256     NaN  14.253     NaN     NaN   \n",
       "1      NaN    2   NaN  14.997     NaN     NaN  14.479     NaN  14.103  14.045   \n",
       "2      NaN    3   NaN     NaN  14.302  14.456     NaN  14.306     NaN     NaN   \n",
       "3      NaN    4   NaN  14.922     NaN     NaN  14.642     NaN  14.237  14.240   \n",
       "4      NaN    5   NaN     NaN  14.414  14.435     NaN  14.494     NaN     NaN   \n",
       "\n",
       "   ...    2019    2020    2021    2022    2023    2024    2025      \\\n",
       "0  ...  12.934  13.046  12.711  13.291  12.734  13.206  12.510 NaN   \n",
       "1  ...  12.992  13.072  12.710  13.392  12.724  13.300  12.525 NaN   \n",
       "2  ...  12.980  13.170  12.799  13.354  12.717  13.429  12.524 NaN   \n",
       "3  ...  13.045  13.193  12.834  13.440  12.786  13.449  12.432 NaN   \n",
       "4  ...  13.147  13.166  12.862  13.496  12.841  13.590  12.522 NaN   \n",
       "\n",
       "   1981-2010 mean  1981-2010 median  \n",
       "0          13.778            13.823  \n",
       "1          13.842            13.886  \n",
       "2          13.891            13.884  \n",
       "3          13.930            13.925  \n",
       "4          13.978            14.036  \n",
       "\n",
       "[5 rows x 53 columns]"
      ]
     },
     "execution_count": 9,
     "metadata": {},
     "output_type": "execute_result"
    }
   ],
   "source": [
    "df.head(5)"
   ]
  },
  {
   "cell_type": "code",
   "execution_count": 12,
   "id": "0d8e24ea-6f25-43af-aa6e-ac0546215521",
   "metadata": {},
   "outputs": [
    {
     "name": "stdout",
     "output_type": "stream",
     "text": [
      "<class 'pandas.core.frame.DataFrame'>\n",
      "RangeIndex: 366 entries, 0 to 365\n",
      "Data columns (total 53 columns):\n",
      " #   Column            Non-Null Count  Dtype  \n",
      "---  ------            --------------  -----  \n",
      " 0   Month             12 non-null     object \n",
      " 1   Day               366 non-null    int64  \n",
      " 2   1978              34 non-null     float64\n",
      " 3   1979              182 non-null    float64\n",
      " 4   1980              183 non-null    float64\n",
      " 5   1981              183 non-null    float64\n",
      " 6   1982              182 non-null    float64\n",
      " 7   1983              183 non-null    float64\n",
      " 8   1984              183 non-null    float64\n",
      " 9   1985              182 non-null    float64\n",
      " 10  1986              183 non-null    float64\n",
      " 11  1987              220 non-null    float64\n",
      " 12  1988              354 non-null    float64\n",
      " 13  1989              365 non-null    float64\n",
      " 14  1990              365 non-null    float64\n",
      " 15  1991              365 non-null    float64\n",
      " 16  1992              366 non-null    float64\n",
      " 17  1993              365 non-null    float64\n",
      " 18  1994              365 non-null    float64\n",
      " 19  1995              365 non-null    float64\n",
      " 20  1996              366 non-null    float64\n",
      " 21  1997              365 non-null    float64\n",
      " 22  1998              365 non-null    float64\n",
      " 23  1999              365 non-null    float64\n",
      " 24  2000              366 non-null    float64\n",
      " 25  2001              365 non-null    float64\n",
      " 26  2002              365 non-null    float64\n",
      " 27  2003              365 non-null    float64\n",
      " 28  2004              366 non-null    float64\n",
      " 29  2005              365 non-null    float64\n",
      " 30  2006              365 non-null    float64\n",
      " 31  2007              365 non-null    float64\n",
      " 32  2008              366 non-null    float64\n",
      " 33  2009              365 non-null    float64\n",
      " 34  2010              365 non-null    float64\n",
      " 35  2011              365 non-null    float64\n",
      " 36  2012              366 non-null    float64\n",
      " 37  2013              365 non-null    float64\n",
      " 38  2014              365 non-null    float64\n",
      " 39  2015              365 non-null    float64\n",
      " 40  2016              366 non-null    float64\n",
      " 41  2017              365 non-null    float64\n",
      " 42  2018              365 non-null    float64\n",
      " 43  2019              365 non-null    float64\n",
      " 44  2020              366 non-null    float64\n",
      " 45  2021              365 non-null    float64\n",
      " 46  2022              365 non-null    float64\n",
      " 47  2023              365 non-null    float64\n",
      " 48  2024              360 non-null    float64\n",
      " 49  2025              25 non-null     float64\n",
      " 50                    0 non-null      float64\n",
      " 51  1981-2010 mean    366 non-null    float64\n",
      " 52  1981-2010 median  366 non-null    float64\n",
      "dtypes: float64(51), int64(1), object(1)\n",
      "memory usage: 151.7+ KB\n"
     ]
    }
   ],
   "source": [
    "df.info()"
   ]
  },
  {
   "cell_type": "code",
   "execution_count": 13,
   "id": "212429ce-1632-4b2c-980f-19930b5db7bb",
   "metadata": {},
   "outputs": [],
   "source": [
    "df.Month.ffill(inplace=True)"
   ]
  },
  {
   "cell_type": "code",
   "execution_count": 14,
   "id": "a3924582-fbe3-4da9-9224-395c28e0fa2b",
   "metadata": {},
   "outputs": [
    {
     "name": "stdout",
     "output_type": "stream",
     "text": [
      "<class 'pandas.core.frame.DataFrame'>\n",
      "RangeIndex: 366 entries, 0 to 365\n",
      "Data columns (total 53 columns):\n",
      " #   Column            Non-Null Count  Dtype  \n",
      "---  ------            --------------  -----  \n",
      " 0   Month             366 non-null    object \n",
      " 1   Day               366 non-null    int64  \n",
      " 2   1978              34 non-null     float64\n",
      " 3   1979              182 non-null    float64\n",
      " 4   1980              183 non-null    float64\n",
      " 5   1981              183 non-null    float64\n",
      " 6   1982              182 non-null    float64\n",
      " 7   1983              183 non-null    float64\n",
      " 8   1984              183 non-null    float64\n",
      " 9   1985              182 non-null    float64\n",
      " 10  1986              183 non-null    float64\n",
      " 11  1987              220 non-null    float64\n",
      " 12  1988              354 non-null    float64\n",
      " 13  1989              365 non-null    float64\n",
      " 14  1990              365 non-null    float64\n",
      " 15  1991              365 non-null    float64\n",
      " 16  1992              366 non-null    float64\n",
      " 17  1993              365 non-null    float64\n",
      " 18  1994              365 non-null    float64\n",
      " 19  1995              365 non-null    float64\n",
      " 20  1996              366 non-null    float64\n",
      " 21  1997              365 non-null    float64\n",
      " 22  1998              365 non-null    float64\n",
      " 23  1999              365 non-null    float64\n",
      " 24  2000              366 non-null    float64\n",
      " 25  2001              365 non-null    float64\n",
      " 26  2002              365 non-null    float64\n",
      " 27  2003              365 non-null    float64\n",
      " 28  2004              366 non-null    float64\n",
      " 29  2005              365 non-null    float64\n",
      " 30  2006              365 non-null    float64\n",
      " 31  2007              365 non-null    float64\n",
      " 32  2008              366 non-null    float64\n",
      " 33  2009              365 non-null    float64\n",
      " 34  2010              365 non-null    float64\n",
      " 35  2011              365 non-null    float64\n",
      " 36  2012              366 non-null    float64\n",
      " 37  2013              365 non-null    float64\n",
      " 38  2014              365 non-null    float64\n",
      " 39  2015              365 non-null    float64\n",
      " 40  2016              366 non-null    float64\n",
      " 41  2017              365 non-null    float64\n",
      " 42  2018              365 non-null    float64\n",
      " 43  2019              365 non-null    float64\n",
      " 44  2020              366 non-null    float64\n",
      " 45  2021              365 non-null    float64\n",
      " 46  2022              365 non-null    float64\n",
      " 47  2023              365 non-null    float64\n",
      " 48  2024              360 non-null    float64\n",
      " 49  2025              25 non-null     float64\n",
      " 50                    0 non-null      float64\n",
      " 51  1981-2010 mean    366 non-null    float64\n",
      " 52  1981-2010 median  366 non-null    float64\n",
      "dtypes: float64(51), int64(1), object(1)\n",
      "memory usage: 151.7+ KB\n"
     ]
    }
   ],
   "source": [
    "df.info()"
   ]
  },
  {
   "cell_type": "code",
   "execution_count": null,
   "id": "88dd4e54-f909-40d3-9e40-6c7da235751c",
   "metadata": {},
   "outputs": [],
   "source": []
  },
  {
   "cell_type": "markdown",
   "id": "3f698aaa-f018-46d9-808f-129e335eb4c8",
   "metadata": {},
   "source": [
    "# Filter\n",
    "\n",
    "* Will be using data from 1989 the year from which daily measurements were made"
   ]
  },
  {
   "cell_type": "code",
   "execution_count": 15,
   "id": "c4f76cbe-4656-4c64-8e5a-4ee00d7820f6",
   "metadata": {},
   "outputs": [
    {
     "data": {
      "text/plain": [
       "Index([           'Month',              'Day',               1978,\n",
       "                     1979,               1980,               1981,\n",
       "                     1982,               1983,               1984,\n",
       "                     1985,               1986,               1987,\n",
       "                     1988,               1989,               1990,\n",
       "                     1991,               1992,               1993,\n",
       "                     1994,               1995,               1996,\n",
       "                     1997,               1998,               1999,\n",
       "                     2000,               2001,               2002,\n",
       "                     2003,               2004,               2005,\n",
       "                     2006,               2007,               2008,\n",
       "                     2009,               2010,               2011,\n",
       "                     2012,               2013,               2014,\n",
       "                     2015,               2016,               2017,\n",
       "                     2018,               2019,               2020,\n",
       "                     2021,               2022,               2023,\n",
       "                     2024,               2025,                ' ',\n",
       "         '1981-2010 mean', '1981-2010 median'],\n",
       "      dtype='object')"
      ]
     },
     "execution_count": 15,
     "metadata": {},
     "output_type": "execute_result"
    }
   ],
   "source": [
    "df.columns"
   ]
  },
  {
   "cell_type": "code",
   "execution_count": 19,
   "id": "84f6bfc3-fb59-4ea8-b1d4-e1e1ab1ff535",
   "metadata": {},
   "outputs": [
    {
     "data": {
      "text/plain": [
       "13"
      ]
     },
     "execution_count": 19,
     "metadata": {},
     "output_type": "execute_result"
    }
   ],
   "source": [
    "df.columns.tolist().index(1989)"
   ]
  },
  {
   "cell_type": "code",
   "execution_count": 20,
   "id": "3b8e920c-0162-4410-a6aa-1bd28342aac1",
   "metadata": {},
   "outputs": [
    {
     "data": {
      "text/plain": [
       "2"
      ]
     },
     "execution_count": 20,
     "metadata": {},
     "output_type": "execute_result"
    }
   ],
   "source": [
    "df.columns.tolist().index(1978)"
   ]
  },
  {
   "cell_type": "code",
   "execution_count": 24,
   "id": "17625a31-e830-47d0-a8db-8da58becb71a",
   "metadata": {},
   "outputs": [
    {
     "data": {
      "text/plain": [
       "[1978, 1979, 1980, 1981, 1982, 1983, 1984, 1985, 1986, 1987, 1988]"
      ]
     },
     "execution_count": 24,
     "metadata": {},
     "output_type": "execute_result"
    }
   ],
   "source": [
    "col_list = df.columns.tolist()\n",
    "col_to_remove = col_list[2:13]\n",
    "col_to_remove"
   ]
  },
  {
   "cell_type": "code",
   "execution_count": 25,
   "id": "da2e43a2-4851-4683-9844-10c03d36a629",
   "metadata": {},
   "outputs": [
    {
     "data": {
      "text/plain": [
       "['Month',\n",
       " 'Day',\n",
       " 1989,\n",
       " 1990,\n",
       " 1991,\n",
       " 1992,\n",
       " 1993,\n",
       " 1994,\n",
       " 1995,\n",
       " 1996,\n",
       " 1997,\n",
       " 1998,\n",
       " 1999,\n",
       " 2000,\n",
       " 2001,\n",
       " 2002,\n",
       " 2003,\n",
       " 2004,\n",
       " 2005,\n",
       " 2006,\n",
       " 2007,\n",
       " 2008,\n",
       " 2009,\n",
       " 2010,\n",
       " 2011,\n",
       " 2012,\n",
       " 2013,\n",
       " 2014,\n",
       " 2015,\n",
       " 2016,\n",
       " 2017,\n",
       " 2018,\n",
       " 2019,\n",
       " 2020,\n",
       " 2021,\n",
       " 2022,\n",
       " 2023,\n",
       " 2024,\n",
       " 2025,\n",
       " ' ',\n",
       " '1981-2010 mean',\n",
       " '1981-2010 median']"
      ]
     },
     "execution_count": 25,
     "metadata": {},
     "output_type": "execute_result"
    }
   ],
   "source": [
    "col_to_include = [elem for elem in col_list if elem not in col_to_remove]\n",
    "col_to_include"
   ]
  },
  {
   "cell_type": "code",
   "execution_count": 39,
   "id": "6653fe91-4ca5-4b1f-b529-a7bb0d15ff62",
   "metadata": {},
   "outputs": [
    {
     "data": {
      "text/html": [
       "<div>\n",
       "<style scoped>\n",
       "    .dataframe tbody tr th:only-of-type {\n",
       "        vertical-align: middle;\n",
       "    }\n",
       "\n",
       "    .dataframe tbody tr th {\n",
       "        vertical-align: top;\n",
       "    }\n",
       "\n",
       "    .dataframe thead th {\n",
       "        text-align: right;\n",
       "    }\n",
       "</style>\n",
       "<table border=\"1\" class=\"dataframe\">\n",
       "  <thead>\n",
       "    <tr style=\"text-align: right;\">\n",
       "      <th></th>\n",
       "      <th>Month</th>\n",
       "      <th>Day</th>\n",
       "      <th>1989</th>\n",
       "      <th>1990</th>\n",
       "      <th>1991</th>\n",
       "      <th>1992</th>\n",
       "      <th>1993</th>\n",
       "      <th>1994</th>\n",
       "      <th>1995</th>\n",
       "      <th>1996</th>\n",
       "      <th>...</th>\n",
       "      <th>2019</th>\n",
       "      <th>2020</th>\n",
       "      <th>2021</th>\n",
       "      <th>2022</th>\n",
       "      <th>2023</th>\n",
       "      <th>2024</th>\n",
       "      <th>2025</th>\n",
       "      <th></th>\n",
       "      <th>1981-2010 mean</th>\n",
       "      <th>1981-2010 median</th>\n",
       "    </tr>\n",
       "  </thead>\n",
       "  <tbody>\n",
       "    <tr>\n",
       "      <th>0</th>\n",
       "      <td>January</td>\n",
       "      <td>1</td>\n",
       "      <td>14.261</td>\n",
       "      <td>14.319</td>\n",
       "      <td>13.634</td>\n",
       "      <td>14.069</td>\n",
       "      <td>14.035</td>\n",
       "      <td>14.095</td>\n",
       "      <td>14.145</td>\n",
       "      <td>13.804</td>\n",
       "      <td>...</td>\n",
       "      <td>12.934</td>\n",
       "      <td>13.046</td>\n",
       "      <td>12.711</td>\n",
       "      <td>13.291</td>\n",
       "      <td>12.734</td>\n",
       "      <td>13.206</td>\n",
       "      <td>12.510</td>\n",
       "      <td>NaN</td>\n",
       "      <td>13.778</td>\n",
       "      <td>13.823</td>\n",
       "    </tr>\n",
       "    <tr>\n",
       "      <th>1</th>\n",
       "      <td>January</td>\n",
       "      <td>2</td>\n",
       "      <td>14.313</td>\n",
       "      <td>14.384</td>\n",
       "      <td>13.831</td>\n",
       "      <td>14.092</td>\n",
       "      <td>14.141</td>\n",
       "      <td>14.110</td>\n",
       "      <td>14.258</td>\n",
       "      <td>13.818</td>\n",
       "      <td>...</td>\n",
       "      <td>12.992</td>\n",
       "      <td>13.072</td>\n",
       "      <td>12.710</td>\n",
       "      <td>13.392</td>\n",
       "      <td>12.724</td>\n",
       "      <td>13.300</td>\n",
       "      <td>12.525</td>\n",
       "      <td>NaN</td>\n",
       "      <td>13.842</td>\n",
       "      <td>13.886</td>\n",
       "    </tr>\n",
       "    <tr>\n",
       "      <th>2</th>\n",
       "      <td>January</td>\n",
       "      <td>3</td>\n",
       "      <td>14.402</td>\n",
       "      <td>14.283</td>\n",
       "      <td>13.847</td>\n",
       "      <td>14.141</td>\n",
       "      <td>14.250</td>\n",
       "      <td>14.042</td>\n",
       "      <td>14.335</td>\n",
       "      <td>13.786</td>\n",
       "      <td>...</td>\n",
       "      <td>12.980</td>\n",
       "      <td>13.170</td>\n",
       "      <td>12.799</td>\n",
       "      <td>13.354</td>\n",
       "      <td>12.717</td>\n",
       "      <td>13.429</td>\n",
       "      <td>12.524</td>\n",
       "      <td>NaN</td>\n",
       "      <td>13.891</td>\n",
       "      <td>13.884</td>\n",
       "    </tr>\n",
       "    <tr>\n",
       "      <th>3</th>\n",
       "      <td>January</td>\n",
       "      <td>4</td>\n",
       "      <td>14.417</td>\n",
       "      <td>14.321</td>\n",
       "      <td>13.858</td>\n",
       "      <td>14.072</td>\n",
       "      <td>14.255</td>\n",
       "      <td>14.168</td>\n",
       "      <td>14.288</td>\n",
       "      <td>13.791</td>\n",
       "      <td>...</td>\n",
       "      <td>13.045</td>\n",
       "      <td>13.193</td>\n",
       "      <td>12.834</td>\n",
       "      <td>13.440</td>\n",
       "      <td>12.786</td>\n",
       "      <td>13.449</td>\n",
       "      <td>12.432</td>\n",
       "      <td>NaN</td>\n",
       "      <td>13.930</td>\n",
       "      <td>13.925</td>\n",
       "    </tr>\n",
       "    <tr>\n",
       "      <th>4</th>\n",
       "      <td>January</td>\n",
       "      <td>5</td>\n",
       "      <td>14.381</td>\n",
       "      <td>14.303</td>\n",
       "      <td>13.872</td>\n",
       "      <td>14.185</td>\n",
       "      <td>14.266</td>\n",
       "      <td>14.231</td>\n",
       "      <td>14.304</td>\n",
       "      <td>13.839</td>\n",
       "      <td>...</td>\n",
       "      <td>13.147</td>\n",
       "      <td>13.166</td>\n",
       "      <td>12.862</td>\n",
       "      <td>13.496</td>\n",
       "      <td>12.841</td>\n",
       "      <td>13.590</td>\n",
       "      <td>12.522</td>\n",
       "      <td>NaN</td>\n",
       "      <td>13.978</td>\n",
       "      <td>14.036</td>\n",
       "    </tr>\n",
       "  </tbody>\n",
       "</table>\n",
       "<p>5 rows × 42 columns</p>\n",
       "</div>"
      ],
      "text/plain": [
       "     Month  Day    1989    1990    1991    1992    1993    1994    1995  \\\n",
       "0  January    1  14.261  14.319  13.634  14.069  14.035  14.095  14.145   \n",
       "1  January    2  14.313  14.384  13.831  14.092  14.141  14.110  14.258   \n",
       "2  January    3  14.402  14.283  13.847  14.141  14.250  14.042  14.335   \n",
       "3  January    4  14.417  14.321  13.858  14.072  14.255  14.168  14.288   \n",
       "4  January    5  14.381  14.303  13.872  14.185  14.266  14.231  14.304   \n",
       "\n",
       "     1996  ...    2019    2020    2021    2022    2023    2024    2025      \\\n",
       "0  13.804  ...  12.934  13.046  12.711  13.291  12.734  13.206  12.510 NaN   \n",
       "1  13.818  ...  12.992  13.072  12.710  13.392  12.724  13.300  12.525 NaN   \n",
       "2  13.786  ...  12.980  13.170  12.799  13.354  12.717  13.429  12.524 NaN   \n",
       "3  13.791  ...  13.045  13.193  12.834  13.440  12.786  13.449  12.432 NaN   \n",
       "4  13.839  ...  13.147  13.166  12.862  13.496  12.841  13.590  12.522 NaN   \n",
       "\n",
       "   1981-2010 mean  1981-2010 median  \n",
       "0          13.778            13.823  \n",
       "1          13.842            13.886  \n",
       "2          13.891            13.884  \n",
       "3          13.930            13.925  \n",
       "4          13.978            14.036  \n",
       "\n",
       "[5 rows x 42 columns]"
      ]
     },
     "execution_count": 39,
     "metadata": {},
     "output_type": "execute_result"
    }
   ],
   "source": [
    "df_filtered = df[col_to_include].copy()\n",
    "df_filtered.head(5)"
   ]
  },
  {
   "cell_type": "code",
   "execution_count": null,
   "id": "a3054275-01dc-4f9e-ab8a-ed0eb1dd5b6e",
   "metadata": {},
   "outputs": [],
   "source": []
  },
  {
   "cell_type": "markdown",
   "id": "ca7c6a98-8959-4f28-b186-44939c18bef1",
   "metadata": {},
   "source": [
    "## Dropping Feb 29th for the sake of demo"
   ]
  },
  {
   "cell_type": "code",
   "execution_count": 40,
   "id": "4a0a2eed-25e2-4897-ab97-21c2f3252ac0",
   "metadata": {},
   "outputs": [
    {
     "name": "stdout",
     "output_type": "stream",
     "text": [
      "<class 'pandas.core.frame.DataFrame'>\n",
      "RangeIndex: 366 entries, 0 to 365\n",
      "Data columns (total 42 columns):\n",
      " #   Column            Non-Null Count  Dtype  \n",
      "---  ------            --------------  -----  \n",
      " 0   Month             366 non-null    object \n",
      " 1   Day               366 non-null    int64  \n",
      " 2   1989              365 non-null    float64\n",
      " 3   1990              365 non-null    float64\n",
      " 4   1991              365 non-null    float64\n",
      " 5   1992              366 non-null    float64\n",
      " 6   1993              365 non-null    float64\n",
      " 7   1994              365 non-null    float64\n",
      " 8   1995              365 non-null    float64\n",
      " 9   1996              366 non-null    float64\n",
      " 10  1997              365 non-null    float64\n",
      " 11  1998              365 non-null    float64\n",
      " 12  1999              365 non-null    float64\n",
      " 13  2000              366 non-null    float64\n",
      " 14  2001              365 non-null    float64\n",
      " 15  2002              365 non-null    float64\n",
      " 16  2003              365 non-null    float64\n",
      " 17  2004              366 non-null    float64\n",
      " 18  2005              365 non-null    float64\n",
      " 19  2006              365 non-null    float64\n",
      " 20  2007              365 non-null    float64\n",
      " 21  2008              366 non-null    float64\n",
      " 22  2009              365 non-null    float64\n",
      " 23  2010              365 non-null    float64\n",
      " 24  2011              365 non-null    float64\n",
      " 25  2012              366 non-null    float64\n",
      " 26  2013              365 non-null    float64\n",
      " 27  2014              365 non-null    float64\n",
      " 28  2015              365 non-null    float64\n",
      " 29  2016              366 non-null    float64\n",
      " 30  2017              365 non-null    float64\n",
      " 31  2018              365 non-null    float64\n",
      " 32  2019              365 non-null    float64\n",
      " 33  2020              366 non-null    float64\n",
      " 34  2021              365 non-null    float64\n",
      " 35  2022              365 non-null    float64\n",
      " 36  2023              365 non-null    float64\n",
      " 37  2024              360 non-null    float64\n",
      " 38  2025              25 non-null     float64\n",
      " 39                    0 non-null      float64\n",
      " 40  1981-2010 mean    366 non-null    float64\n",
      " 41  1981-2010 median  366 non-null    float64\n",
      "dtypes: float64(40), int64(1), object(1)\n",
      "memory usage: 120.2+ KB\n"
     ]
    }
   ],
   "source": [
    "df_filtered.info()"
   ]
  },
  {
   "cell_type": "code",
   "execution_count": 41,
   "id": "33816ecd-e795-450d-b2c9-d1b5304708bc",
   "metadata": {},
   "outputs": [
    {
     "data": {
      "text/plain": [
       "' '"
      ]
     },
     "execution_count": 41,
     "metadata": {},
     "output_type": "execute_result"
    }
   ],
   "source": [
    "df_filtered.columns[39]"
   ]
  },
  {
   "cell_type": "code",
   "execution_count": 42,
   "id": "9d3c24c3-0356-481f-b94a-117a59020283",
   "metadata": {},
   "outputs": [],
   "source": [
    "df_filtered.drop(columns=[df_filtered.columns[39]], inplace=True)"
   ]
  },
  {
   "cell_type": "code",
   "execution_count": 43,
   "id": "66bb92eb-1dcc-4e31-8d99-b813b1be1bb3",
   "metadata": {},
   "outputs": [
    {
     "name": "stdout",
     "output_type": "stream",
     "text": [
      "<class 'pandas.core.frame.DataFrame'>\n",
      "RangeIndex: 366 entries, 0 to 365\n",
      "Data columns (total 41 columns):\n",
      " #   Column            Non-Null Count  Dtype  \n",
      "---  ------            --------------  -----  \n",
      " 0   Month             366 non-null    object \n",
      " 1   Day               366 non-null    int64  \n",
      " 2   1989              365 non-null    float64\n",
      " 3   1990              365 non-null    float64\n",
      " 4   1991              365 non-null    float64\n",
      " 5   1992              366 non-null    float64\n",
      " 6   1993              365 non-null    float64\n",
      " 7   1994              365 non-null    float64\n",
      " 8   1995              365 non-null    float64\n",
      " 9   1996              366 non-null    float64\n",
      " 10  1997              365 non-null    float64\n",
      " 11  1998              365 non-null    float64\n",
      " 12  1999              365 non-null    float64\n",
      " 13  2000              366 non-null    float64\n",
      " 14  2001              365 non-null    float64\n",
      " 15  2002              365 non-null    float64\n",
      " 16  2003              365 non-null    float64\n",
      " 17  2004              366 non-null    float64\n",
      " 18  2005              365 non-null    float64\n",
      " 19  2006              365 non-null    float64\n",
      " 20  2007              365 non-null    float64\n",
      " 21  2008              366 non-null    float64\n",
      " 22  2009              365 non-null    float64\n",
      " 23  2010              365 non-null    float64\n",
      " 24  2011              365 non-null    float64\n",
      " 25  2012              366 non-null    float64\n",
      " 26  2013              365 non-null    float64\n",
      " 27  2014              365 non-null    float64\n",
      " 28  2015              365 non-null    float64\n",
      " 29  2016              366 non-null    float64\n",
      " 30  2017              365 non-null    float64\n",
      " 31  2018              365 non-null    float64\n",
      " 32  2019              365 non-null    float64\n",
      " 33  2020              366 non-null    float64\n",
      " 34  2021              365 non-null    float64\n",
      " 35  2022              365 non-null    float64\n",
      " 36  2023              365 non-null    float64\n",
      " 37  2024              360 non-null    float64\n",
      " 38  2025              25 non-null     float64\n",
      " 39  1981-2010 mean    366 non-null    float64\n",
      " 40  1981-2010 median  366 non-null    float64\n",
      "dtypes: float64(39), int64(1), object(1)\n",
      "memory usage: 117.4+ KB\n"
     ]
    }
   ],
   "source": [
    "df_filtered.info()"
   ]
  },
  {
   "cell_type": "code",
   "execution_count": 33,
   "id": "43f515b6-2698-4f7c-93e2-31431feb667d",
   "metadata": {},
   "outputs": [
    {
     "data": {
      "text/plain": [
       "8"
      ]
     },
     "execution_count": 33,
     "metadata": {},
     "output_type": "execute_result"
    }
   ],
   "source": [
    "(2024-1989)//4"
   ]
  },
  {
   "cell_type": "code",
   "execution_count": 44,
   "id": "2e541b80-d01e-4e6e-a8a7-f87b347541af",
   "metadata": {},
   "outputs": [
    {
     "data": {
      "text/html": [
       "<div>\n",
       "<style scoped>\n",
       "    .dataframe tbody tr th:only-of-type {\n",
       "        vertical-align: middle;\n",
       "    }\n",
       "\n",
       "    .dataframe tbody tr th {\n",
       "        vertical-align: top;\n",
       "    }\n",
       "\n",
       "    .dataframe thead th {\n",
       "        text-align: right;\n",
       "    }\n",
       "</style>\n",
       "<table border=\"1\" class=\"dataframe\">\n",
       "  <thead>\n",
       "    <tr style=\"text-align: right;\">\n",
       "      <th></th>\n",
       "      <th>Month</th>\n",
       "      <th>Day</th>\n",
       "      <th>1989</th>\n",
       "      <th>1990</th>\n",
       "      <th>1991</th>\n",
       "      <th>1992</th>\n",
       "      <th>1993</th>\n",
       "      <th>1994</th>\n",
       "      <th>1995</th>\n",
       "      <th>1996</th>\n",
       "      <th>...</th>\n",
       "      <th>2018</th>\n",
       "      <th>2019</th>\n",
       "      <th>2020</th>\n",
       "      <th>2021</th>\n",
       "      <th>2022</th>\n",
       "      <th>2023</th>\n",
       "      <th>2024</th>\n",
       "      <th>2025</th>\n",
       "      <th>1981-2010 mean</th>\n",
       "      <th>1981-2010 median</th>\n",
       "    </tr>\n",
       "  </thead>\n",
       "  <tbody>\n",
       "    <tr>\n",
       "      <th>0</th>\n",
       "      <td>January</td>\n",
       "      <td>1</td>\n",
       "      <td>14.261</td>\n",
       "      <td>14.319</td>\n",
       "      <td>13.634</td>\n",
       "      <td>14.069</td>\n",
       "      <td>14.035</td>\n",
       "      <td>14.095</td>\n",
       "      <td>14.145</td>\n",
       "      <td>13.804</td>\n",
       "      <td>...</td>\n",
       "      <td>12.484</td>\n",
       "      <td>12.934</td>\n",
       "      <td>13.046</td>\n",
       "      <td>12.711</td>\n",
       "      <td>13.291</td>\n",
       "      <td>12.734</td>\n",
       "      <td>13.206</td>\n",
       "      <td>12.510</td>\n",
       "      <td>13.778</td>\n",
       "      <td>13.823</td>\n",
       "    </tr>\n",
       "    <tr>\n",
       "      <th>1</th>\n",
       "      <td>January</td>\n",
       "      <td>2</td>\n",
       "      <td>14.313</td>\n",
       "      <td>14.384</td>\n",
       "      <td>13.831</td>\n",
       "      <td>14.092</td>\n",
       "      <td>14.141</td>\n",
       "      <td>14.110</td>\n",
       "      <td>14.258</td>\n",
       "      <td>13.818</td>\n",
       "      <td>...</td>\n",
       "      <td>12.600</td>\n",
       "      <td>12.992</td>\n",
       "      <td>13.072</td>\n",
       "      <td>12.710</td>\n",
       "      <td>13.392</td>\n",
       "      <td>12.724</td>\n",
       "      <td>13.300</td>\n",
       "      <td>12.525</td>\n",
       "      <td>13.842</td>\n",
       "      <td>13.886</td>\n",
       "    </tr>\n",
       "    <tr>\n",
       "      <th>2</th>\n",
       "      <td>January</td>\n",
       "      <td>3</td>\n",
       "      <td>14.402</td>\n",
       "      <td>14.283</td>\n",
       "      <td>13.847</td>\n",
       "      <td>14.141</td>\n",
       "      <td>14.250</td>\n",
       "      <td>14.042</td>\n",
       "      <td>14.335</td>\n",
       "      <td>13.786</td>\n",
       "      <td>...</td>\n",
       "      <td>12.634</td>\n",
       "      <td>12.980</td>\n",
       "      <td>13.170</td>\n",
       "      <td>12.799</td>\n",
       "      <td>13.354</td>\n",
       "      <td>12.717</td>\n",
       "      <td>13.429</td>\n",
       "      <td>12.524</td>\n",
       "      <td>13.891</td>\n",
       "      <td>13.884</td>\n",
       "    </tr>\n",
       "    <tr>\n",
       "      <th>3</th>\n",
       "      <td>January</td>\n",
       "      <td>4</td>\n",
       "      <td>14.417</td>\n",
       "      <td>14.321</td>\n",
       "      <td>13.858</td>\n",
       "      <td>14.072</td>\n",
       "      <td>14.255</td>\n",
       "      <td>14.168</td>\n",
       "      <td>14.288</td>\n",
       "      <td>13.791</td>\n",
       "      <td>...</td>\n",
       "      <td>12.724</td>\n",
       "      <td>13.045</td>\n",
       "      <td>13.193</td>\n",
       "      <td>12.834</td>\n",
       "      <td>13.440</td>\n",
       "      <td>12.786</td>\n",
       "      <td>13.449</td>\n",
       "      <td>12.432</td>\n",
       "      <td>13.930</td>\n",
       "      <td>13.925</td>\n",
       "    </tr>\n",
       "    <tr>\n",
       "      <th>4</th>\n",
       "      <td>January</td>\n",
       "      <td>5</td>\n",
       "      <td>14.381</td>\n",
       "      <td>14.303</td>\n",
       "      <td>13.872</td>\n",
       "      <td>14.185</td>\n",
       "      <td>14.266</td>\n",
       "      <td>14.231</td>\n",
       "      <td>14.304</td>\n",
       "      <td>13.839</td>\n",
       "      <td>...</td>\n",
       "      <td>12.834</td>\n",
       "      <td>13.147</td>\n",
       "      <td>13.166</td>\n",
       "      <td>12.862</td>\n",
       "      <td>13.496</td>\n",
       "      <td>12.841</td>\n",
       "      <td>13.590</td>\n",
       "      <td>12.522</td>\n",
       "      <td>13.978</td>\n",
       "      <td>14.036</td>\n",
       "    </tr>\n",
       "  </tbody>\n",
       "</table>\n",
       "<p>5 rows × 41 columns</p>\n",
       "</div>"
      ],
      "text/plain": [
       "     Month  Day    1989    1990    1991    1992    1993    1994    1995  \\\n",
       "0  January    1  14.261  14.319  13.634  14.069  14.035  14.095  14.145   \n",
       "1  January    2  14.313  14.384  13.831  14.092  14.141  14.110  14.258   \n",
       "2  January    3  14.402  14.283  13.847  14.141  14.250  14.042  14.335   \n",
       "3  January    4  14.417  14.321  13.858  14.072  14.255  14.168  14.288   \n",
       "4  January    5  14.381  14.303  13.872  14.185  14.266  14.231  14.304   \n",
       "\n",
       "     1996  ...    2018    2019    2020    2021    2022    2023    2024  \\\n",
       "0  13.804  ...  12.484  12.934  13.046  12.711  13.291  12.734  13.206   \n",
       "1  13.818  ...  12.600  12.992  13.072  12.710  13.392  12.724  13.300   \n",
       "2  13.786  ...  12.634  12.980  13.170  12.799  13.354  12.717  13.429   \n",
       "3  13.791  ...  12.724  13.045  13.193  12.834  13.440  12.786  13.449   \n",
       "4  13.839  ...  12.834  13.147  13.166  12.862  13.496  12.841  13.590   \n",
       "\n",
       "     2025  1981-2010 mean  1981-2010 median  \n",
       "0  12.510          13.778            13.823  \n",
       "1  12.525          13.842            13.886  \n",
       "2  12.524          13.891            13.884  \n",
       "3  12.432          13.930            13.925  \n",
       "4  12.522          13.978            14.036  \n",
       "\n",
       "[5 rows x 41 columns]"
      ]
     },
     "execution_count": 44,
     "metadata": {},
     "output_type": "execute_result"
    }
   ],
   "source": [
    "df_filtered = df_filtered[~((df_filtered.Month == \"February\") & (df_filtered.Day==29))]\n",
    "df_filtered.head(5)"
   ]
  },
  {
   "cell_type": "code",
   "execution_count": 45,
   "id": "76c40acf-bf8a-464a-a249-c0f3fde28262",
   "metadata": {},
   "outputs": [
    {
     "name": "stdout",
     "output_type": "stream",
     "text": [
      "<class 'pandas.core.frame.DataFrame'>\n",
      "Index: 365 entries, 0 to 365\n",
      "Data columns (total 41 columns):\n",
      " #   Column            Non-Null Count  Dtype  \n",
      "---  ------            --------------  -----  \n",
      " 0   Month             365 non-null    object \n",
      " 1   Day               365 non-null    int64  \n",
      " 2   1989              365 non-null    float64\n",
      " 3   1990              365 non-null    float64\n",
      " 4   1991              365 non-null    float64\n",
      " 5   1992              365 non-null    float64\n",
      " 6   1993              365 non-null    float64\n",
      " 7   1994              365 non-null    float64\n",
      " 8   1995              365 non-null    float64\n",
      " 9   1996              365 non-null    float64\n",
      " 10  1997              365 non-null    float64\n",
      " 11  1998              365 non-null    float64\n",
      " 12  1999              365 non-null    float64\n",
      " 13  2000              365 non-null    float64\n",
      " 14  2001              365 non-null    float64\n",
      " 15  2002              365 non-null    float64\n",
      " 16  2003              365 non-null    float64\n",
      " 17  2004              365 non-null    float64\n",
      " 18  2005              365 non-null    float64\n",
      " 19  2006              365 non-null    float64\n",
      " 20  2007              365 non-null    float64\n",
      " 21  2008              365 non-null    float64\n",
      " 22  2009              365 non-null    float64\n",
      " 23  2010              365 non-null    float64\n",
      " 24  2011              365 non-null    float64\n",
      " 25  2012              365 non-null    float64\n",
      " 26  2013              365 non-null    float64\n",
      " 27  2014              365 non-null    float64\n",
      " 28  2015              365 non-null    float64\n",
      " 29  2016              365 non-null    float64\n",
      " 30  2017              365 non-null    float64\n",
      " 31  2018              365 non-null    float64\n",
      " 32  2019              365 non-null    float64\n",
      " 33  2020              365 non-null    float64\n",
      " 34  2021              365 non-null    float64\n",
      " 35  2022              365 non-null    float64\n",
      " 36  2023              365 non-null    float64\n",
      " 37  2024              359 non-null    float64\n",
      " 38  2025              25 non-null     float64\n",
      " 39  1981-2010 mean    365 non-null    float64\n",
      " 40  1981-2010 median  365 non-null    float64\n",
      "dtypes: float64(39), int64(1), object(1)\n",
      "memory usage: 119.8+ KB\n"
     ]
    }
   ],
   "source": [
    "df_filtered.info()"
   ]
  },
  {
   "cell_type": "code",
   "execution_count": 46,
   "id": "2b1b2768-0ce5-475c-9fb2-c7fa823796ff",
   "metadata": {},
   "outputs": [
    {
     "data": {
      "text/plain": [
       "365"
      ]
     },
     "execution_count": 46,
     "metadata": {},
     "output_type": "execute_result"
    }
   ],
   "source": [
    "len(df_filtered)"
   ]
  },
  {
   "cell_type": "markdown",
   "id": "fa6803c6-91c4-4928-9619-33f6e43697f4",
   "metadata": {},
   "source": [
    "# Clean"
   ]
  },
  {
   "cell_type": "markdown",
   "id": "08956d6e-5ebf-46a7-8260-e47beeb3aa53",
   "metadata": {},
   "source": [
    "## 2024 has null values"
   ]
  },
  {
   "cell_type": "code",
   "execution_count": 60,
   "id": "cc8202fe-fc0b-423a-9dae-6d5b7cf252b0",
   "metadata": {},
   "outputs": [
    {
     "data": {
      "text/plain": [
       "2024    6\n",
       "dtype: int64"
      ]
     },
     "execution_count": 60,
     "metadata": {},
     "output_type": "execute_result"
    }
   ],
   "source": [
    "df_filtered[[2024]].isna().sum()"
   ]
  },
  {
   "cell_type": "code",
   "execution_count": 65,
   "id": "771a5e84-caf2-4d0c-a191-170b247087a7",
   "metadata": {},
   "outputs": [
    {
     "data": {
      "text/html": [
       "<div>\n",
       "<style scoped>\n",
       "    .dataframe tbody tr th:only-of-type {\n",
       "        vertical-align: middle;\n",
       "    }\n",
       "\n",
       "    .dataframe tbody tr th {\n",
       "        vertical-align: top;\n",
       "    }\n",
       "\n",
       "    .dataframe thead th {\n",
       "        text-align: right;\n",
       "    }\n",
       "</style>\n",
       "<table border=\"1\" class=\"dataframe\">\n",
       "  <thead>\n",
       "    <tr style=\"text-align: right;\">\n",
       "      <th></th>\n",
       "      <th>Month</th>\n",
       "      <th>Day</th>\n",
       "      <th>2024</th>\n",
       "    </tr>\n",
       "  </thead>\n",
       "  <tbody>\n",
       "    <tr>\n",
       "      <th>255</th>\n",
       "      <td>September</td>\n",
       "      <td>12</td>\n",
       "      <td>NaN</td>\n",
       "    </tr>\n",
       "    <tr>\n",
       "      <th>256</th>\n",
       "      <td>September</td>\n",
       "      <td>13</td>\n",
       "      <td>NaN</td>\n",
       "    </tr>\n",
       "    <tr>\n",
       "      <th>257</th>\n",
       "      <td>September</td>\n",
       "      <td>14</td>\n",
       "      <td>NaN</td>\n",
       "    </tr>\n",
       "    <tr>\n",
       "      <th>258</th>\n",
       "      <td>September</td>\n",
       "      <td>15</td>\n",
       "      <td>NaN</td>\n",
       "    </tr>\n",
       "    <tr>\n",
       "      <th>259</th>\n",
       "      <td>September</td>\n",
       "      <td>16</td>\n",
       "      <td>NaN</td>\n",
       "    </tr>\n",
       "    <tr>\n",
       "      <th>260</th>\n",
       "      <td>September</td>\n",
       "      <td>17</td>\n",
       "      <td>NaN</td>\n",
       "    </tr>\n",
       "  </tbody>\n",
       "</table>\n",
       "</div>"
      ],
      "text/plain": [
       "         Month  Day  2024\n",
       "255  September   12   NaN\n",
       "256  September   13   NaN\n",
       "257  September   14   NaN\n",
       "258  September   15   NaN\n",
       "259  September   16   NaN\n",
       "260  September   17   NaN"
      ]
     },
     "execution_count": 65,
     "metadata": {},
     "output_type": "execute_result"
    }
   ],
   "source": [
    "df_filtered[['Month', 'Day', 2024]][df_filtered[2024].isna().to_numpy()]"
   ]
  },
  {
   "cell_type": "code",
   "execution_count": 67,
   "id": "7ea80843-94ad-481e-9748-4b7881c79c36",
   "metadata": {},
   "outputs": [
    {
     "data": {
      "text/plain": [
       "np.float64(4.283)"
      ]
     },
     "execution_count": 67,
     "metadata": {},
     "output_type": "execute_result"
    }
   ],
   "source": [
    "df_filtered.loc[254, 2024]"
   ]
  },
  {
   "cell_type": "code",
   "execution_count": 68,
   "id": "ab55c18c-7ea4-4b55-97e2-5b0b89aabc84",
   "metadata": {},
   "outputs": [
    {
     "data": {
      "text/plain": [
       "np.float64(4.317)"
      ]
     },
     "execution_count": 68,
     "metadata": {},
     "output_type": "execute_result"
    }
   ],
   "source": [
    "df_filtered.loc[261, 2024]"
   ]
  },
  {
   "cell_type": "code",
   "execution_count": 66,
   "id": "15249ca8-11f4-46cf-8bf6-74d010d35f69",
   "metadata": {},
   "outputs": [
    {
     "data": {
      "text/plain": [
       "np.float64(4.300000000000001)"
      ]
     },
     "execution_count": 66,
     "metadata": {},
     "output_type": "execute_result"
    }
   ],
   "source": [
    "fill_value = (df_filtered.loc[254, 2024] + df_filtered.loc[261, 2024] )/2\n",
    "fill_value"
   ]
  },
  {
   "cell_type": "code",
   "execution_count": 70,
   "id": "64d37670-24b9-4d3d-bf1a-faf027532b5f",
   "metadata": {},
   "outputs": [
    {
     "name": "stderr",
     "output_type": "stream",
     "text": [
      "/tmp/ipykernel_61488/1171532009.py:1: FutureWarning: A value is trying to be set on a copy of a DataFrame or Series through chained assignment using an inplace method.\n",
      "The behavior will change in pandas 3.0. This inplace method will never work because the intermediate object on which we are setting values always behaves as a copy.\n",
      "\n",
      "For example, when doing 'df[col].method(value, inplace=True)', try using 'df.method({col: value}, inplace=True)' or df[col] = df[col].method(value) instead, to perform the operation inplace on the original object.\n",
      "\n",
      "\n",
      "  df_filtered.loc[255:261, 2024].fillna(value=fill_value, inplace=True)\n"
     ]
    },
    {
     "data": {
      "text/plain": [
       "Month                 0\n",
       "Day                   0\n",
       "1989                  0\n",
       "1990                  0\n",
       "1991                  0\n",
       "1992                  0\n",
       "1993                  0\n",
       "1994                  0\n",
       "1995                  0\n",
       "1996                  0\n",
       "1997                  0\n",
       "1998                  0\n",
       "1999                  0\n",
       "2000                  0\n",
       "2001                  0\n",
       "2002                  0\n",
       "2003                  0\n",
       "2004                  0\n",
       "2005                  0\n",
       "2006                  0\n",
       "2007                  0\n",
       "2008                  0\n",
       "2009                  0\n",
       "2010                  0\n",
       "2011                  0\n",
       "2012                  0\n",
       "2013                  0\n",
       "2014                  0\n",
       "2015                  0\n",
       "2016                  0\n",
       "2017                  0\n",
       "2018                  0\n",
       "2019                  0\n",
       "2020                  0\n",
       "2021                  0\n",
       "2022                  0\n",
       "2023                  0\n",
       "2024                  0\n",
       "2025                340\n",
       "1981-2010 mean        0\n",
       "1981-2010 median      0\n",
       "dtype: int64"
      ]
     },
     "execution_count": 70,
     "metadata": {},
     "output_type": "execute_result"
    }
   ],
   "source": [
    "df_filtered.loc[255:261, 2024].fillna(value=fill_value, inplace=True)\n",
    "df_filtered.isna().sum()"
   ]
  },
  {
   "cell_type": "code",
   "execution_count": 71,
   "id": "9340e73a-e8af-41af-b338-bd7b1957bde8",
   "metadata": {},
   "outputs": [
    {
     "data": {
      "text/html": [
       "<div>\n",
       "<style scoped>\n",
       "    .dataframe tbody tr th:only-of-type {\n",
       "        vertical-align: middle;\n",
       "    }\n",
       "\n",
       "    .dataframe tbody tr th {\n",
       "        vertical-align: top;\n",
       "    }\n",
       "\n",
       "    .dataframe thead th {\n",
       "        text-align: right;\n",
       "    }\n",
       "</style>\n",
       "<table border=\"1\" class=\"dataframe\">\n",
       "  <thead>\n",
       "    <tr style=\"text-align: right;\">\n",
       "      <th></th>\n",
       "      <th>Month</th>\n",
       "      <th>Day</th>\n",
       "      <th>1989</th>\n",
       "      <th>1990</th>\n",
       "      <th>1991</th>\n",
       "      <th>1992</th>\n",
       "      <th>1993</th>\n",
       "      <th>1994</th>\n",
       "      <th>1995</th>\n",
       "      <th>1996</th>\n",
       "      <th>...</th>\n",
       "      <th>2018</th>\n",
       "      <th>2019</th>\n",
       "      <th>2020</th>\n",
       "      <th>2021</th>\n",
       "      <th>2022</th>\n",
       "      <th>2023</th>\n",
       "      <th>2024</th>\n",
       "      <th>2025</th>\n",
       "      <th>1981-2010 mean</th>\n",
       "      <th>1981-2010 median</th>\n",
       "    </tr>\n",
       "  </thead>\n",
       "  <tbody>\n",
       "    <tr>\n",
       "      <th>0</th>\n",
       "      <td>January</td>\n",
       "      <td>1</td>\n",
       "      <td>14.261</td>\n",
       "      <td>14.319</td>\n",
       "      <td>13.634</td>\n",
       "      <td>14.069</td>\n",
       "      <td>14.035</td>\n",
       "      <td>14.095</td>\n",
       "      <td>14.145</td>\n",
       "      <td>13.804</td>\n",
       "      <td>...</td>\n",
       "      <td>12.484</td>\n",
       "      <td>12.934</td>\n",
       "      <td>13.046</td>\n",
       "      <td>12.711</td>\n",
       "      <td>13.291</td>\n",
       "      <td>12.734</td>\n",
       "      <td>13.206</td>\n",
       "      <td>12.510</td>\n",
       "      <td>13.778</td>\n",
       "      <td>13.823</td>\n",
       "    </tr>\n",
       "    <tr>\n",
       "      <th>1</th>\n",
       "      <td>January</td>\n",
       "      <td>2</td>\n",
       "      <td>14.313</td>\n",
       "      <td>14.384</td>\n",
       "      <td>13.831</td>\n",
       "      <td>14.092</td>\n",
       "      <td>14.141</td>\n",
       "      <td>14.110</td>\n",
       "      <td>14.258</td>\n",
       "      <td>13.818</td>\n",
       "      <td>...</td>\n",
       "      <td>12.600</td>\n",
       "      <td>12.992</td>\n",
       "      <td>13.072</td>\n",
       "      <td>12.710</td>\n",
       "      <td>13.392</td>\n",
       "      <td>12.724</td>\n",
       "      <td>13.300</td>\n",
       "      <td>12.525</td>\n",
       "      <td>13.842</td>\n",
       "      <td>13.886</td>\n",
       "    </tr>\n",
       "    <tr>\n",
       "      <th>2</th>\n",
       "      <td>January</td>\n",
       "      <td>3</td>\n",
       "      <td>14.402</td>\n",
       "      <td>14.283</td>\n",
       "      <td>13.847</td>\n",
       "      <td>14.141</td>\n",
       "      <td>14.250</td>\n",
       "      <td>14.042</td>\n",
       "      <td>14.335</td>\n",
       "      <td>13.786</td>\n",
       "      <td>...</td>\n",
       "      <td>12.634</td>\n",
       "      <td>12.980</td>\n",
       "      <td>13.170</td>\n",
       "      <td>12.799</td>\n",
       "      <td>13.354</td>\n",
       "      <td>12.717</td>\n",
       "      <td>13.429</td>\n",
       "      <td>12.524</td>\n",
       "      <td>13.891</td>\n",
       "      <td>13.884</td>\n",
       "    </tr>\n",
       "    <tr>\n",
       "      <th>3</th>\n",
       "      <td>January</td>\n",
       "      <td>4</td>\n",
       "      <td>14.417</td>\n",
       "      <td>14.321</td>\n",
       "      <td>13.858</td>\n",
       "      <td>14.072</td>\n",
       "      <td>14.255</td>\n",
       "      <td>14.168</td>\n",
       "      <td>14.288</td>\n",
       "      <td>13.791</td>\n",
       "      <td>...</td>\n",
       "      <td>12.724</td>\n",
       "      <td>13.045</td>\n",
       "      <td>13.193</td>\n",
       "      <td>12.834</td>\n",
       "      <td>13.440</td>\n",
       "      <td>12.786</td>\n",
       "      <td>13.449</td>\n",
       "      <td>12.432</td>\n",
       "      <td>13.930</td>\n",
       "      <td>13.925</td>\n",
       "    </tr>\n",
       "    <tr>\n",
       "      <th>4</th>\n",
       "      <td>January</td>\n",
       "      <td>5</td>\n",
       "      <td>14.381</td>\n",
       "      <td>14.303</td>\n",
       "      <td>13.872</td>\n",
       "      <td>14.185</td>\n",
       "      <td>14.266</td>\n",
       "      <td>14.231</td>\n",
       "      <td>14.304</td>\n",
       "      <td>13.839</td>\n",
       "      <td>...</td>\n",
       "      <td>12.834</td>\n",
       "      <td>13.147</td>\n",
       "      <td>13.166</td>\n",
       "      <td>12.862</td>\n",
       "      <td>13.496</td>\n",
       "      <td>12.841</td>\n",
       "      <td>13.590</td>\n",
       "      <td>12.522</td>\n",
       "      <td>13.978</td>\n",
       "      <td>14.036</td>\n",
       "    </tr>\n",
       "    <tr>\n",
       "      <th>5</th>\n",
       "      <td>January</td>\n",
       "      <td>6</td>\n",
       "      <td>14.359</td>\n",
       "      <td>14.407</td>\n",
       "      <td>13.958</td>\n",
       "      <td>14.254</td>\n",
       "      <td>14.220</td>\n",
       "      <td>14.295</td>\n",
       "      <td>14.325</td>\n",
       "      <td>13.877</td>\n",
       "      <td>...</td>\n",
       "      <td>12.772</td>\n",
       "      <td>13.316</td>\n",
       "      <td>13.195</td>\n",
       "      <td>12.917</td>\n",
       "      <td>13.573</td>\n",
       "      <td>12.875</td>\n",
       "      <td>13.704</td>\n",
       "      <td>12.665</td>\n",
       "      <td>14.028</td>\n",
       "      <td>14.139</td>\n",
       "    </tr>\n",
       "    <tr>\n",
       "      <th>6</th>\n",
       "      <td>January</td>\n",
       "      <td>7</td>\n",
       "      <td>14.420</td>\n",
       "      <td>14.497</td>\n",
       "      <td>13.976</td>\n",
       "      <td>14.282</td>\n",
       "      <td>14.348</td>\n",
       "      <td>14.381</td>\n",
       "      <td>14.364</td>\n",
       "      <td>14.007</td>\n",
       "      <td>...</td>\n",
       "      <td>12.750</td>\n",
       "      <td>13.282</td>\n",
       "      <td>13.202</td>\n",
       "      <td>13.024</td>\n",
       "      <td>13.591</td>\n",
       "      <td>12.998</td>\n",
       "      <td>13.879</td>\n",
       "      <td>12.801</td>\n",
       "      <td>14.091</td>\n",
       "      <td>14.188</td>\n",
       "    </tr>\n",
       "    <tr>\n",
       "      <th>7</th>\n",
       "      <td>January</td>\n",
       "      <td>8</td>\n",
       "      <td>14.548</td>\n",
       "      <td>14.540</td>\n",
       "      <td>13.985</td>\n",
       "      <td>14.406</td>\n",
       "      <td>14.434</td>\n",
       "      <td>14.322</td>\n",
       "      <td>14.344</td>\n",
       "      <td>13.976</td>\n",
       "      <td>...</td>\n",
       "      <td>12.740</td>\n",
       "      <td>13.236</td>\n",
       "      <td>13.295</td>\n",
       "      <td>13.039</td>\n",
       "      <td>13.676</td>\n",
       "      <td>13.205</td>\n",
       "      <td>13.754</td>\n",
       "      <td>12.816</td>\n",
       "      <td>14.132</td>\n",
       "      <td>14.303</td>\n",
       "    </tr>\n",
       "    <tr>\n",
       "      <th>8</th>\n",
       "      <td>January</td>\n",
       "      <td>9</td>\n",
       "      <td>14.701</td>\n",
       "      <td>14.623</td>\n",
       "      <td>14.071</td>\n",
       "      <td>14.419</td>\n",
       "      <td>14.493</td>\n",
       "      <td>14.397</td>\n",
       "      <td>14.310</td>\n",
       "      <td>13.941</td>\n",
       "      <td>...</td>\n",
       "      <td>12.874</td>\n",
       "      <td>13.458</td>\n",
       "      <td>13.248</td>\n",
       "      <td>13.078</td>\n",
       "      <td>13.668</td>\n",
       "      <td>13.177</td>\n",
       "      <td>13.778</td>\n",
       "      <td>12.922</td>\n",
       "      <td>14.170</td>\n",
       "      <td>14.310</td>\n",
       "    </tr>\n",
       "    <tr>\n",
       "      <th>9</th>\n",
       "      <td>January</td>\n",
       "      <td>10</td>\n",
       "      <td>14.755</td>\n",
       "      <td>14.663</td>\n",
       "      <td>14.141</td>\n",
       "      <td>14.481</td>\n",
       "      <td>14.507</td>\n",
       "      <td>14.476</td>\n",
       "      <td>14.263</td>\n",
       "      <td>13.915</td>\n",
       "      <td>...</td>\n",
       "      <td>12.870</td>\n",
       "      <td>13.383</td>\n",
       "      <td>13.216</td>\n",
       "      <td>13.179</td>\n",
       "      <td>13.651</td>\n",
       "      <td>13.204</td>\n",
       "      <td>13.885</td>\n",
       "      <td>13.010</td>\n",
       "      <td>14.196</td>\n",
       "      <td>14.240</td>\n",
       "    </tr>\n",
       "  </tbody>\n",
       "</table>\n",
       "<p>10 rows × 41 columns</p>\n",
       "</div>"
      ],
      "text/plain": [
       "     Month  Day    1989    1990    1991    1992    1993    1994    1995  \\\n",
       "0  January    1  14.261  14.319  13.634  14.069  14.035  14.095  14.145   \n",
       "1  January    2  14.313  14.384  13.831  14.092  14.141  14.110  14.258   \n",
       "2  January    3  14.402  14.283  13.847  14.141  14.250  14.042  14.335   \n",
       "3  January    4  14.417  14.321  13.858  14.072  14.255  14.168  14.288   \n",
       "4  January    5  14.381  14.303  13.872  14.185  14.266  14.231  14.304   \n",
       "5  January    6  14.359  14.407  13.958  14.254  14.220  14.295  14.325   \n",
       "6  January    7  14.420  14.497  13.976  14.282  14.348  14.381  14.364   \n",
       "7  January    8  14.548  14.540  13.985  14.406  14.434  14.322  14.344   \n",
       "8  January    9  14.701  14.623  14.071  14.419  14.493  14.397  14.310   \n",
       "9  January   10  14.755  14.663  14.141  14.481  14.507  14.476  14.263   \n",
       "\n",
       "     1996  ...    2018    2019    2020    2021    2022    2023    2024  \\\n",
       "0  13.804  ...  12.484  12.934  13.046  12.711  13.291  12.734  13.206   \n",
       "1  13.818  ...  12.600  12.992  13.072  12.710  13.392  12.724  13.300   \n",
       "2  13.786  ...  12.634  12.980  13.170  12.799  13.354  12.717  13.429   \n",
       "3  13.791  ...  12.724  13.045  13.193  12.834  13.440  12.786  13.449   \n",
       "4  13.839  ...  12.834  13.147  13.166  12.862  13.496  12.841  13.590   \n",
       "5  13.877  ...  12.772  13.316  13.195  12.917  13.573  12.875  13.704   \n",
       "6  14.007  ...  12.750  13.282  13.202  13.024  13.591  12.998  13.879   \n",
       "7  13.976  ...  12.740  13.236  13.295  13.039  13.676  13.205  13.754   \n",
       "8  13.941  ...  12.874  13.458  13.248  13.078  13.668  13.177  13.778   \n",
       "9  13.915  ...  12.870  13.383  13.216  13.179  13.651  13.204  13.885   \n",
       "\n",
       "     2025  1981-2010 mean  1981-2010 median  \n",
       "0  12.510          13.778            13.823  \n",
       "1  12.525          13.842            13.886  \n",
       "2  12.524          13.891            13.884  \n",
       "3  12.432          13.930            13.925  \n",
       "4  12.522          13.978            14.036  \n",
       "5  12.665          14.028            14.139  \n",
       "6  12.801          14.091            14.188  \n",
       "7  12.816          14.132            14.303  \n",
       "8  12.922          14.170            14.310  \n",
       "9  13.010          14.196            14.240  \n",
       "\n",
       "[10 rows x 41 columns]"
      ]
     },
     "execution_count": 71,
     "metadata": {},
     "output_type": "execute_result"
    }
   ],
   "source": [
    "df_filtered.head(10)"
   ]
  },
  {
   "cell_type": "code",
   "execution_count": null,
   "id": "54cfe9f6-7aea-40b0-a14c-151d9fe8c5cf",
   "metadata": {},
   "outputs": [],
   "source": []
  },
  {
   "cell_type": "markdown",
   "id": "f02e2604-a2d2-4bda-b7ce-2036a7c506dc",
   "metadata": {},
   "source": [
    "# Preprocessing"
   ]
  },
  {
   "cell_type": "code",
   "execution_count": 72,
   "id": "0570774a-78b8-4d0d-9ee7-d26298339743",
   "metadata": {},
   "outputs": [
    {
     "data": {
      "text/plain": [
       "array(['April', 'August', 'December', 'February', 'January', 'July',\n",
       "       'June', 'March', 'May', 'November', 'October', 'September'],\n",
       "      dtype=object)"
      ]
     },
     "execution_count": 72,
     "metadata": {},
     "output_type": "execute_result"
    }
   ],
   "source": [
    "months = np.unique(df_filtered.Month)\n",
    "months"
   ]
  },
  {
   "cell_type": "code",
   "execution_count": 74,
   "id": "bff7783a-9494-4bd3-95d6-97241a558029",
   "metadata": {},
   "outputs": [
    {
     "data": {
      "text/plain": [
       "array(['January', 'February', 'March', 'April', 'May', 'June', 'July',\n",
       "       'August', 'September', 'October', 'November', 'December'],\n",
       "      dtype=object)"
      ]
     },
     "execution_count": 74,
     "metadata": {},
     "output_type": "execute_result"
    }
   ],
   "source": [
    "months = pd.unique(df_filtered.Month)\n",
    "months"
   ]
  },
  {
   "cell_type": "code",
   "execution_count": 75,
   "id": "dc37852b-f195-49f7-b501-420bf2e3f43b",
   "metadata": {},
   "outputs": [
    {
     "data": {
      "text/plain": [
       "Timestamp('1989-01-09 00:00:00')"
      ]
     },
     "execution_count": 75,
     "metadata": {},
     "output_type": "execute_result"
    }
   ],
   "source": [
    "pd.to_datetime('January 9 1989')"
   ]
  },
  {
   "cell_type": "code",
   "execution_count": 76,
   "id": "cb54c4c9-3d4c-450e-a8d1-fc5b78907e9b",
   "metadata": {},
   "outputs": [],
   "source": [
    "x = pd.to_datetime('January 9 1989')"
   ]
  },
  {
   "cell_type": "code",
   "execution_count": 77,
   "id": "33d6cb91-f7cb-43cd-9981-3d37a512d966",
   "metadata": {},
   "outputs": [
    {
     "data": {
      "text/plain": [
       "np.datetime64('1989-01-09T00:00:00.000000000')"
      ]
     },
     "execution_count": 77,
     "metadata": {},
     "output_type": "execute_result"
    }
   ],
   "source": [
    "x.to_datetime64()"
   ]
  },
  {
   "cell_type": "code",
   "execution_count": 83,
   "id": "3fadea3d-3464-4916-adb8-668eea49ee9a",
   "metadata": {},
   "outputs": [
    {
     "data": {
      "text/plain": [
       "600307200000000000"
      ]
     },
     "execution_count": 83,
     "metadata": {},
     "output_type": "execute_result"
    }
   ],
   "source": [
    "x.value"
   ]
  },
  {
   "cell_type": "code",
   "execution_count": 85,
   "id": "fae9a49f-dcc3-46ec-974e-6cea40e78758",
   "metadata": {},
   "outputs": [
    {
     "data": {
      "text/plain": [
       "86400000000000"
      ]
     },
     "execution_count": 85,
     "metadata": {},
     "output_type": "execute_result"
    }
   ],
   "source": [
    "pd.to_datetime('1970-01-02').value"
   ]
  },
  {
   "cell_type": "code",
   "execution_count": 89,
   "id": "219e6901-fb23-412f-8916-63379466e6fe",
   "metadata": {},
   "outputs": [
    {
     "data": {
      "text/plain": [
       "-598924800000000000"
      ]
     },
     "execution_count": 89,
     "metadata": {},
     "output_type": "execute_result"
    }
   ],
   "source": [
    "pd.to_datetime('1951-01-09').value"
   ]
  },
  {
   "cell_type": "code",
   "execution_count": 86,
   "id": "302ddfc4-134d-466d-bead-c6d4c74c502e",
   "metadata": {},
   "outputs": [
    {
     "data": {
      "text/plain": [
       "6948.0"
      ]
     },
     "execution_count": 86,
     "metadata": {},
     "output_type": "execute_result"
    }
   ],
   "source": [
    "x.value/pd.to_datetime('1970-01-02').value"
   ]
  },
  {
   "cell_type": "code",
   "execution_count": 94,
   "id": "761b31e9-f2c1-4867-9836-1c7c969823b9",
   "metadata": {},
   "outputs": [],
   "source": [
    "month_day_list = [month + ' ' + str(day) for month, day in zip(df_filtered.Month.tolist(), df_filtered.Day.tolist())]"
   ]
  },
  {
   "cell_type": "code",
   "execution_count": 92,
   "id": "5f8db9ae-dae6-4a54-8933-b25f88c7eeba",
   "metadata": {},
   "outputs": [
    {
     "data": {
      "text/plain": [
       "'a1'"
      ]
     },
     "execution_count": 92,
     "metadata": {},
     "output_type": "execute_result"
    }
   ],
   "source": [
    "'a' + str(1)"
   ]
  },
  {
   "cell_type": "code",
   "execution_count": 95,
   "id": "8c54d130-57cd-4112-9d46-34b59be2c0fb",
   "metadata": {},
   "outputs": [
    {
     "data": {
      "text/plain": [
       "['January 1',\n",
       " 'January 2',\n",
       " 'January 3',\n",
       " 'January 4',\n",
       " 'January 5',\n",
       " 'January 6',\n",
       " 'January 7',\n",
       " 'January 8',\n",
       " 'January 9',\n",
       " 'January 10']"
      ]
     },
     "execution_count": 95,
     "metadata": {},
     "output_type": "execute_result"
    }
   ],
   "source": [
    "month_day_list[:10]"
   ]
  },
  {
   "cell_type": "code",
   "execution_count": 96,
   "id": "04c5e4b8-97e1-401d-bc20-b81bd0f6b479",
   "metadata": {},
   "outputs": [
    {
     "data": {
      "text/plain": [
       "365"
      ]
     },
     "execution_count": 96,
     "metadata": {},
     "output_type": "execute_result"
    }
   ],
   "source": [
    "len(month_day_list)"
   ]
  },
  {
   "cell_type": "code",
   "execution_count": null,
   "id": "31ef46ff-5d51-4a2d-9b9a-2e4bfaf9031a",
   "metadata": {},
   "outputs": [],
   "source": [
    "df.ite"
   ]
  },
  {
   "cell_type": "code",
   "execution_count": 100,
   "id": "7462e5d5-653d-43cb-8518-757d1ec9c897",
   "metadata": {},
   "outputs": [
    {
     "name": "stdout",
     "output_type": "stream",
     "text": [
      "Pandas(Index=0, Month='January', Day=1)\n"
     ]
    }
   ],
   "source": [
    "for elem in df_filtered[['Month', 'Day']].itertuples():\n",
    "    print(elem)\n",
    "    break"
   ]
  },
  {
   "cell_type": "code",
   "execution_count": 101,
   "id": "ec4a6a5a-625a-41a3-ac8f-3b54ec6ba441",
   "metadata": {},
   "outputs": [
    {
     "data": {
      "text/plain": [
       "'January'"
      ]
     },
     "execution_count": 101,
     "metadata": {},
     "output_type": "execute_result"
    }
   ],
   "source": [
    "elem.Month"
   ]
  },
  {
   "cell_type": "code",
   "execution_count": 102,
   "id": "a89d190e-cde6-453f-b0df-a194153d561c",
   "metadata": {},
   "outputs": [],
   "source": [
    "month_day_list = [elem.Month + ' ' + str(elem.Day) for elem in df_filtered[['Month', 'Day']].itertuples()]"
   ]
  },
  {
   "cell_type": "code",
   "execution_count": 103,
   "id": "5005513b-df46-45d6-a4fe-37047685308b",
   "metadata": {},
   "outputs": [
    {
     "data": {
      "text/plain": [
       "['January 1',\n",
       " 'January 2',\n",
       " 'January 3',\n",
       " 'January 4',\n",
       " 'January 5',\n",
       " 'January 6',\n",
       " 'January 7',\n",
       " 'January 8',\n",
       " 'January 9',\n",
       " 'January 10']"
      ]
     },
     "execution_count": 103,
     "metadata": {},
     "output_type": "execute_result"
    }
   ],
   "source": [
    "month_day_list[:10]"
   ]
  },
  {
   "cell_type": "code",
   "execution_count": 104,
   "id": "60d6490d-a99d-43ed-a55b-32e600aa4a71",
   "metadata": {},
   "outputs": [
    {
     "data": {
      "text/plain": [
       "365"
      ]
     },
     "execution_count": 104,
     "metadata": {},
     "output_type": "execute_result"
    }
   ],
   "source": [
    "len(month_day_list)"
   ]
  },
  {
   "cell_type": "code",
   "execution_count": 105,
   "id": "f488f334-d0bc-42bd-ab22-35ef263c3988",
   "metadata": {},
   "outputs": [],
   "source": [
    "from itertools import product"
   ]
  },
  {
   "cell_type": "code",
   "execution_count": 106,
   "id": "311b073d-2698-4ebb-aa1b-1624d88b5d6a",
   "metadata": {},
   "outputs": [
    {
     "name": "stdout",
     "output_type": "stream",
     "text": [
      "('January 1', 1989)\n",
      "('January 2', 1989)\n",
      "('January 3', 1989)\n",
      "('January 4', 1989)\n",
      "('January 5', 1989)\n"
     ]
    }
   ],
   "source": [
    "for elem in product(month_day_list[:5], df_filtered.columns[2:3]):\n",
    "    print(elem)"
   ]
  },
  {
   "cell_type": "code",
   "execution_count": 117,
   "id": "912c1dbf-1598-4144-9a82-f28eb84486e0",
   "metadata": {},
   "outputs": [
    {
     "data": {
      "text/plain": [
       "2"
      ]
     },
     "execution_count": 117,
     "metadata": {},
     "output_type": "execute_result"
    }
   ],
   "source": [
    "start_year = 1989\n",
    "start_col = df_filtered.columns.tolist().index(start_year)\n",
    "start_col"
   ]
  },
  {
   "cell_type": "code",
   "execution_count": 118,
   "id": "a25e2b27-83c0-493b-bac5-593edd497466",
   "metadata": {},
   "outputs": [
    {
     "data": {
      "text/plain": [
       "38"
      ]
     },
     "execution_count": 118,
     "metadata": {},
     "output_type": "execute_result"
    }
   ],
   "source": [
    "end_year = 2025\n",
    "end_col = df_filtered.columns.tolist().index(end_year)\n",
    "end_col"
   ]
  },
  {
   "cell_type": "code",
   "execution_count": null,
   "id": "dc6eab9a-30bc-4dc0-b8b6-2c53921afa4d",
   "metadata": {},
   "outputs": [],
   "source": []
  },
  {
   "cell_type": "code",
   "execution_count": 124,
   "id": "c216edf5-8acc-4c45-b160-0853d35959b2",
   "metadata": {},
   "outputs": [
    {
     "name": "stdout",
     "output_type": "stream",
     "text": [
      "x = January 1 1989\n",
      "y = 14.261\n"
     ]
    }
   ],
   "source": [
    "dates = []\n",
    "values = []\n",
    "for year in df_filtered.columns[start_col:end_col+1]:\n",
    "\n",
    "    for elem in df_filtered[[\"Month\", \"Day\"]].itertuples():\n",
    "        print(f\"x = {elem.Month + ' ' + str(elem.Day) + ' ' + str(year)}\")\n",
    "        print(f\"y = {df_filtered.loc[elem.Index, year]}\")\n",
    "        break\n",
    "    break"
   ]
  },
  {
   "cell_type": "code",
   "execution_count": 121,
   "id": "56639b92-25c8-46a9-9b83-b94a909e60d7",
   "metadata": {},
   "outputs": [
    {
     "data": {
      "text/plain": [
       "0"
      ]
     },
     "execution_count": 121,
     "metadata": {},
     "output_type": "execute_result"
    }
   ],
   "source": [
    "elem.Index"
   ]
  },
  {
   "cell_type": "code",
   "execution_count": 122,
   "id": "81f40ede-868f-4fc0-b275-4bc048fcf313",
   "metadata": {},
   "outputs": [
    {
     "data": {
      "text/plain": [
       "1989"
      ]
     },
     "execution_count": 122,
     "metadata": {},
     "output_type": "execute_result"
    }
   ],
   "source": [
    "year"
   ]
  },
  {
   "cell_type": "code",
   "execution_count": 123,
   "id": "250be29e-84e7-4618-b177-913f84fa4ac0",
   "metadata": {
    "scrolled": true
   },
   "outputs": [
    {
     "data": {
      "text/plain": [
       "np.float64(14.261)"
      ]
     },
     "execution_count": 123,
     "metadata": {},
     "output_type": "execute_result"
    }
   ],
   "source": [
    "df_filtered.loc[elem.Index, year]"
   ]
  },
  {
   "cell_type": "code",
   "execution_count": 125,
   "id": "2e33a4a8-5742-479e-bcaa-9c57d1f26e35",
   "metadata": {},
   "outputs": [],
   "source": [
    "dates = []\n",
    "values = []\n",
    "for year in df_filtered.columns[start_col:end_col+1]:\n",
    "\n",
    "    for elem in df_filtered[[\"Month\", \"Day\"]].itertuples():\n",
    "        x = elem.Month + ' ' + str(elem.Day) + ' ' + str(year)\n",
    "        dates.append(x)\n",
    "        values.append(df_filtered.loc[elem.Index, year])\n",
    "        # print(f\"x = {elem.Month + ' ' + str(elem.Day) + ' ' + str(year)}\")\n",
    "        # print(f\"y = {df_filtered.loc[elem.Index, year]}\")\n",
    "      "
   ]
  },
  {
   "cell_type": "code",
   "execution_count": 126,
   "id": "c8a8cd89-4d7d-41c0-94aa-b6003106cc15",
   "metadata": {},
   "outputs": [],
   "source": [
    "assert len(dates) == len(df_filtered) * (end_col - start_col + 1)"
   ]
  },
  {
   "cell_type": "code",
   "execution_count": 127,
   "id": "d5ef4620-a053-49d5-bfae-4f8b0a82a38f",
   "metadata": {},
   "outputs": [
    {
     "data": {
      "text/plain": [
       "13505"
      ]
     },
     "execution_count": 127,
     "metadata": {},
     "output_type": "execute_result"
    }
   ],
   "source": [
    "len(dates)"
   ]
  },
  {
   "cell_type": "code",
   "execution_count": 128,
   "id": "b9979c0f-e28e-4559-b6df-8206b96912ac",
   "metadata": {},
   "outputs": [
    {
     "data": {
      "text/plain": [
       "13505"
      ]
     },
     "execution_count": 128,
     "metadata": {},
     "output_type": "execute_result"
    }
   ],
   "source": [
    "len(values)"
   ]
  },
  {
   "cell_type": "markdown",
   "id": "488a853f-9946-4752-9188-b19df069c132",
   "metadata": {},
   "source": [
    "## New long table dataframe"
   ]
  },
  {
   "cell_type": "code",
   "execution_count": 129,
   "id": "b7f2067d-f31f-4e9f-81b6-58d343e3aa69",
   "metadata": {},
   "outputs": [
    {
     "data": {
      "text/html": [
       "<div>\n",
       "<style scoped>\n",
       "    .dataframe tbody tr th:only-of-type {\n",
       "        vertical-align: middle;\n",
       "    }\n",
       "\n",
       "    .dataframe tbody tr th {\n",
       "        vertical-align: top;\n",
       "    }\n",
       "\n",
       "    .dataframe thead th {\n",
       "        text-align: right;\n",
       "    }\n",
       "</style>\n",
       "<table border=\"1\" class=\"dataframe\">\n",
       "  <thead>\n",
       "    <tr style=\"text-align: right;\">\n",
       "      <th></th>\n",
       "      <th>Date</th>\n",
       "      <th>Value</th>\n",
       "    </tr>\n",
       "  </thead>\n",
       "  <tbody>\n",
       "    <tr>\n",
       "      <th>0</th>\n",
       "      <td>January 1 1989</td>\n",
       "      <td>14.261</td>\n",
       "    </tr>\n",
       "    <tr>\n",
       "      <th>1</th>\n",
       "      <td>January 2 1989</td>\n",
       "      <td>14.313</td>\n",
       "    </tr>\n",
       "    <tr>\n",
       "      <th>2</th>\n",
       "      <td>January 3 1989</td>\n",
       "      <td>14.402</td>\n",
       "    </tr>\n",
       "    <tr>\n",
       "      <th>3</th>\n",
       "      <td>January 4 1989</td>\n",
       "      <td>14.417</td>\n",
       "    </tr>\n",
       "    <tr>\n",
       "      <th>4</th>\n",
       "      <td>January 5 1989</td>\n",
       "      <td>14.381</td>\n",
       "    </tr>\n",
       "    <tr>\n",
       "      <th>5</th>\n",
       "      <td>January 6 1989</td>\n",
       "      <td>14.359</td>\n",
       "    </tr>\n",
       "    <tr>\n",
       "      <th>6</th>\n",
       "      <td>January 7 1989</td>\n",
       "      <td>14.420</td>\n",
       "    </tr>\n",
       "    <tr>\n",
       "      <th>7</th>\n",
       "      <td>January 8 1989</td>\n",
       "      <td>14.548</td>\n",
       "    </tr>\n",
       "    <tr>\n",
       "      <th>8</th>\n",
       "      <td>January 9 1989</td>\n",
       "      <td>14.701</td>\n",
       "    </tr>\n",
       "    <tr>\n",
       "      <th>9</th>\n",
       "      <td>January 10 1989</td>\n",
       "      <td>14.755</td>\n",
       "    </tr>\n",
       "  </tbody>\n",
       "</table>\n",
       "</div>"
      ],
      "text/plain": [
       "              Date   Value\n",
       "0   January 1 1989  14.261\n",
       "1   January 2 1989  14.313\n",
       "2   January 3 1989  14.402\n",
       "3   January 4 1989  14.417\n",
       "4   January 5 1989  14.381\n",
       "5   January 6 1989  14.359\n",
       "6   January 7 1989  14.420\n",
       "7   January 8 1989  14.548\n",
       "8   January 9 1989  14.701\n",
       "9  January 10 1989  14.755"
      ]
     },
     "execution_count": 129,
     "metadata": {},
     "output_type": "execute_result"
    }
   ],
   "source": [
    "df_processed = pd.DataFrame(data=zip(dates, values), columns=[\"Date\", \"Value\"])\n",
    "df_processed.head(10)"
   ]
  },
  {
   "cell_type": "code",
   "execution_count": 130,
   "id": "718fb9cc-0a08-4072-b2a4-0f3c8feca974",
   "metadata": {},
   "outputs": [
    {
     "name": "stdout",
     "output_type": "stream",
     "text": [
      "<class 'pandas.core.frame.DataFrame'>\n",
      "RangeIndex: 13505 entries, 0 to 13504\n",
      "Data columns (total 2 columns):\n",
      " #   Column  Non-Null Count  Dtype  \n",
      "---  ------  --------------  -----  \n",
      " 0   Date    13505 non-null  object \n",
      " 1   Value   13165 non-null  float64\n",
      "dtypes: float64(1), object(1)\n",
      "memory usage: 211.1+ KB\n"
     ]
    }
   ],
   "source": [
    "df_processed.info()"
   ]
  },
  {
   "cell_type": "markdown",
   "id": "bd6e9fd6-e34f-491d-90a7-5bcfef5cfb6c",
   "metadata": {},
   "source": [
    "## Need to remove 2025 null values"
   ]
  },
  {
   "cell_type": "code",
   "execution_count": 131,
   "id": "546263a0-4c05-4243-b07e-82144786f461",
   "metadata": {},
   "outputs": [
    {
     "data": {
      "text/html": [
       "<div>\n",
       "<style scoped>\n",
       "    .dataframe tbody tr th:only-of-type {\n",
       "        vertical-align: middle;\n",
       "    }\n",
       "\n",
       "    .dataframe tbody tr th {\n",
       "        vertical-align: top;\n",
       "    }\n",
       "\n",
       "    .dataframe thead th {\n",
       "        text-align: right;\n",
       "    }\n",
       "</style>\n",
       "<table border=\"1\" class=\"dataframe\">\n",
       "  <thead>\n",
       "    <tr style=\"text-align: right;\">\n",
       "      <th></th>\n",
       "      <th>Date</th>\n",
       "      <th>Value</th>\n",
       "    </tr>\n",
       "  </thead>\n",
       "  <tbody>\n",
       "    <tr>\n",
       "      <th>13495</th>\n",
       "      <td>December 22 2025</td>\n",
       "      <td>NaN</td>\n",
       "    </tr>\n",
       "    <tr>\n",
       "      <th>13496</th>\n",
       "      <td>December 23 2025</td>\n",
       "      <td>NaN</td>\n",
       "    </tr>\n",
       "    <tr>\n",
       "      <th>13497</th>\n",
       "      <td>December 24 2025</td>\n",
       "      <td>NaN</td>\n",
       "    </tr>\n",
       "    <tr>\n",
       "      <th>13498</th>\n",
       "      <td>December 25 2025</td>\n",
       "      <td>NaN</td>\n",
       "    </tr>\n",
       "    <tr>\n",
       "      <th>13499</th>\n",
       "      <td>December 26 2025</td>\n",
       "      <td>NaN</td>\n",
       "    </tr>\n",
       "    <tr>\n",
       "      <th>13500</th>\n",
       "      <td>December 27 2025</td>\n",
       "      <td>NaN</td>\n",
       "    </tr>\n",
       "    <tr>\n",
       "      <th>13501</th>\n",
       "      <td>December 28 2025</td>\n",
       "      <td>NaN</td>\n",
       "    </tr>\n",
       "    <tr>\n",
       "      <th>13502</th>\n",
       "      <td>December 29 2025</td>\n",
       "      <td>NaN</td>\n",
       "    </tr>\n",
       "    <tr>\n",
       "      <th>13503</th>\n",
       "      <td>December 30 2025</td>\n",
       "      <td>NaN</td>\n",
       "    </tr>\n",
       "    <tr>\n",
       "      <th>13504</th>\n",
       "      <td>December 31 2025</td>\n",
       "      <td>NaN</td>\n",
       "    </tr>\n",
       "  </tbody>\n",
       "</table>\n",
       "</div>"
      ],
      "text/plain": [
       "                   Date  Value\n",
       "13495  December 22 2025    NaN\n",
       "13496  December 23 2025    NaN\n",
       "13497  December 24 2025    NaN\n",
       "13498  December 25 2025    NaN\n",
       "13499  December 26 2025    NaN\n",
       "13500  December 27 2025    NaN\n",
       "13501  December 28 2025    NaN\n",
       "13502  December 29 2025    NaN\n",
       "13503  December 30 2025    NaN\n",
       "13504  December 31 2025    NaN"
      ]
     },
     "execution_count": 131,
     "metadata": {},
     "output_type": "execute_result"
    }
   ],
   "source": [
    "df_processed.tail(10)"
   ]
  },
  {
   "cell_type": "code",
   "execution_count": 133,
   "id": "fd93b8cf-93ad-4bef-8767-35d770b8752a",
   "metadata": {},
   "outputs": [
    {
     "data": {
      "text/html": [
       "<div>\n",
       "<style scoped>\n",
       "    .dataframe tbody tr th:only-of-type {\n",
       "        vertical-align: middle;\n",
       "    }\n",
       "\n",
       "    .dataframe tbody tr th {\n",
       "        vertical-align: top;\n",
       "    }\n",
       "\n",
       "    .dataframe thead th {\n",
       "        text-align: right;\n",
       "    }\n",
       "</style>\n",
       "<table border=\"1\" class=\"dataframe\">\n",
       "  <thead>\n",
       "    <tr style=\"text-align: right;\">\n",
       "      <th></th>\n",
       "      <th>Date</th>\n",
       "      <th>Value</th>\n",
       "    </tr>\n",
       "  </thead>\n",
       "  <tbody>\n",
       "    <tr>\n",
       "      <th>13155</th>\n",
       "      <td>January 16 2025</td>\n",
       "      <td>13.120</td>\n",
       "    </tr>\n",
       "    <tr>\n",
       "      <th>13156</th>\n",
       "      <td>January 17 2025</td>\n",
       "      <td>13.215</td>\n",
       "    </tr>\n",
       "    <tr>\n",
       "      <th>13157</th>\n",
       "      <td>January 18 2025</td>\n",
       "      <td>13.259</td>\n",
       "    </tr>\n",
       "    <tr>\n",
       "      <th>13158</th>\n",
       "      <td>January 19 2025</td>\n",
       "      <td>13.365</td>\n",
       "    </tr>\n",
       "    <tr>\n",
       "      <th>13159</th>\n",
       "      <td>January 20 2025</td>\n",
       "      <td>13.376</td>\n",
       "    </tr>\n",
       "    <tr>\n",
       "      <th>13160</th>\n",
       "      <td>January 21 2025</td>\n",
       "      <td>13.491</td>\n",
       "    </tr>\n",
       "    <tr>\n",
       "      <th>13161</th>\n",
       "      <td>January 22 2025</td>\n",
       "      <td>13.417</td>\n",
       "    </tr>\n",
       "    <tr>\n",
       "      <th>13162</th>\n",
       "      <td>January 23 2025</td>\n",
       "      <td>13.495</td>\n",
       "    </tr>\n",
       "    <tr>\n",
       "      <th>13163</th>\n",
       "      <td>January 24 2025</td>\n",
       "      <td>13.547</td>\n",
       "    </tr>\n",
       "    <tr>\n",
       "      <th>13164</th>\n",
       "      <td>January 25 2025</td>\n",
       "      <td>13.578</td>\n",
       "    </tr>\n",
       "  </tbody>\n",
       "</table>\n",
       "</div>"
      ],
      "text/plain": [
       "                  Date   Value\n",
       "13155  January 16 2025  13.120\n",
       "13156  January 17 2025  13.215\n",
       "13157  January 18 2025  13.259\n",
       "13158  January 19 2025  13.365\n",
       "13159  January 20 2025  13.376\n",
       "13160  January 21 2025  13.491\n",
       "13161  January 22 2025  13.417\n",
       "13162  January 23 2025  13.495\n",
       "13163  January 24 2025  13.547\n",
       "13164  January 25 2025  13.578"
      ]
     },
     "execution_count": 133,
     "metadata": {},
     "output_type": "execute_result"
    }
   ],
   "source": [
    "df_processed.dropna(inplace=True)\n",
    "df_processed.tail(10)"
   ]
  },
  {
   "cell_type": "code",
   "execution_count": 134,
   "id": "5e6557ff-d7f2-49db-85a6-851412022bab",
   "metadata": {},
   "outputs": [
    {
     "data": {
      "text/plain": [
       "Date     0\n",
       "Value    0\n",
       "dtype: int64"
      ]
     },
     "execution_count": 134,
     "metadata": {},
     "output_type": "execute_result"
    }
   ],
   "source": [
    "df_processed.isna().sum()"
   ]
  },
  {
   "cell_type": "markdown",
   "id": "7f8aa01b-5891-40a2-bf8f-75abf6752615",
   "metadata": {},
   "source": [
    "## Converting string date to pd.datetime64"
   ]
  },
  {
   "cell_type": "code",
   "execution_count": 136,
   "id": "93b4cf83-8d56-4e7d-bede-2bec8f84c65c",
   "metadata": {},
   "outputs": [],
   "source": [
    "df_processed[['Date']] = df_processed[['Date']].apply(lambda x:pd.to_datetime(x))"
   ]
  },
  {
   "cell_type": "code",
   "execution_count": 144,
   "id": "36074dfb-ff95-4a6e-b5c3-eb4b113034f1",
   "metadata": {},
   "outputs": [
    {
     "name": "stdout",
     "output_type": "stream",
     "text": [
      "<class 'pandas.core.frame.DataFrame'>\n",
      "Index: 13165 entries, 0 to 13164\n",
      "Data columns (total 2 columns):\n",
      " #   Column  Non-Null Count  Dtype         \n",
      "---  ------  --------------  -----         \n",
      " 0   Date    13165 non-null  datetime64[ns]\n",
      " 1   Value   13165 non-null  float64       \n",
      "dtypes: datetime64[ns](1), float64(1)\n",
      "memory usage: 308.6 KB\n"
     ]
    }
   ],
   "source": [
    "df_processed.info()"
   ]
  },
  {
   "cell_type": "code",
   "execution_count": null,
   "id": "fba567b1-29fb-476e-9623-e059628c48de",
   "metadata": {},
   "outputs": [],
   "source": []
  },
  {
   "cell_type": "markdown",
   "id": "41cd52d9-dade-4db5-a800-10621e864a64",
   "metadata": {},
   "source": [
    "## Converting datetime to trignometric values"
   ]
  },
  {
   "cell_type": "code",
   "execution_count": 149,
   "id": "b37750d5-57b6-40cc-8e5f-f12983446a10",
   "metadata": {},
   "outputs": [],
   "source": [
    "df_processed['time_cos'] = np.cos(df_processed['Date'].map(lambda x: x.value))"
   ]
  },
  {
   "cell_type": "code",
   "execution_count": 150,
   "id": "c7dbf12e-6241-49f9-bff8-eef4a0a8ca8c",
   "metadata": {},
   "outputs": [
    {
     "data": {
      "text/html": [
       "<div>\n",
       "<style scoped>\n",
       "    .dataframe tbody tr th:only-of-type {\n",
       "        vertical-align: middle;\n",
       "    }\n",
       "\n",
       "    .dataframe tbody tr th {\n",
       "        vertical-align: top;\n",
       "    }\n",
       "\n",
       "    .dataframe thead th {\n",
       "        text-align: right;\n",
       "    }\n",
       "</style>\n",
       "<table border=\"1\" class=\"dataframe\">\n",
       "  <thead>\n",
       "    <tr style=\"text-align: right;\">\n",
       "      <th></th>\n",
       "      <th>Date</th>\n",
       "      <th>Value</th>\n",
       "      <th>time_cos</th>\n",
       "    </tr>\n",
       "  </thead>\n",
       "  <tbody>\n",
       "    <tr>\n",
       "      <th>0</th>\n",
       "      <td>1989-01-01</td>\n",
       "      <td>14.261</td>\n",
       "      <td>-0.575545</td>\n",
       "    </tr>\n",
       "    <tr>\n",
       "      <th>1</th>\n",
       "      <td>1989-01-02</td>\n",
       "      <td>14.313</td>\n",
       "      <td>-0.842320</td>\n",
       "    </tr>\n",
       "    <tr>\n",
       "      <th>2</th>\n",
       "      <td>1989-01-03</td>\n",
       "      <td>14.402</td>\n",
       "      <td>0.501364</td>\n",
       "    </tr>\n",
       "    <tr>\n",
       "      <th>3</th>\n",
       "      <td>1989-01-04</td>\n",
       "      <td>14.417</td>\n",
       "      <td>0.886474</td>\n",
       "    </tr>\n",
       "    <tr>\n",
       "      <th>4</th>\n",
       "      <td>1989-01-05</td>\n",
       "      <td>14.381</td>\n",
       "      <td>-0.423295</td>\n",
       "    </tr>\n",
       "  </tbody>\n",
       "</table>\n",
       "</div>"
      ],
      "text/plain": [
       "        Date   Value  time_cos\n",
       "0 1989-01-01  14.261 -0.575545\n",
       "1 1989-01-02  14.313 -0.842320\n",
       "2 1989-01-03  14.402  0.501364\n",
       "3 1989-01-04  14.417  0.886474\n",
       "4 1989-01-05  14.381 -0.423295"
      ]
     },
     "execution_count": 150,
     "metadata": {},
     "output_type": "execute_result"
    }
   ],
   "source": [
    "df_processed.head(5)"
   ]
  },
  {
   "cell_type": "code",
   "execution_count": 151,
   "id": "fa00ce2c-b503-4094-a279-6c678d5403d6",
   "metadata": {},
   "outputs": [
    {
     "data": {
      "text/html": [
       "<div>\n",
       "<style scoped>\n",
       "    .dataframe tbody tr th:only-of-type {\n",
       "        vertical-align: middle;\n",
       "    }\n",
       "\n",
       "    .dataframe tbody tr th {\n",
       "        vertical-align: top;\n",
       "    }\n",
       "\n",
       "    .dataframe thead th {\n",
       "        text-align: right;\n",
       "    }\n",
       "</style>\n",
       "<table border=\"1\" class=\"dataframe\">\n",
       "  <thead>\n",
       "    <tr style=\"text-align: right;\">\n",
       "      <th></th>\n",
       "      <th>Date</th>\n",
       "      <th>Value</th>\n",
       "      <th>time_cos</th>\n",
       "      <th>time_sin</th>\n",
       "    </tr>\n",
       "  </thead>\n",
       "  <tbody>\n",
       "    <tr>\n",
       "      <th>0</th>\n",
       "      <td>1989-01-01</td>\n",
       "      <td>14.261</td>\n",
       "      <td>-0.575545</td>\n",
       "      <td>-0.817770</td>\n",
       "    </tr>\n",
       "    <tr>\n",
       "      <th>1</th>\n",
       "      <td>1989-01-02</td>\n",
       "      <td>14.313</td>\n",
       "      <td>-0.842320</td>\n",
       "      <td>0.538977</td>\n",
       "    </tr>\n",
       "    <tr>\n",
       "      <th>2</th>\n",
       "      <td>1989-01-03</td>\n",
       "      <td>14.402</td>\n",
       "      <td>0.501364</td>\n",
       "      <td>0.865236</td>\n",
       "    </tr>\n",
       "    <tr>\n",
       "      <th>3</th>\n",
       "      <td>1989-01-04</td>\n",
       "      <td>14.417</td>\n",
       "      <td>0.886474</td>\n",
       "      <td>-0.462778</td>\n",
       "    </tr>\n",
       "    <tr>\n",
       "      <th>4</th>\n",
       "      <td>1989-01-05</td>\n",
       "      <td>14.381</td>\n",
       "      <td>-0.423295</td>\n",
       "      <td>-0.905992</td>\n",
       "    </tr>\n",
       "  </tbody>\n",
       "</table>\n",
       "</div>"
      ],
      "text/plain": [
       "        Date   Value  time_cos  time_sin\n",
       "0 1989-01-01  14.261 -0.575545 -0.817770\n",
       "1 1989-01-02  14.313 -0.842320  0.538977\n",
       "2 1989-01-03  14.402  0.501364  0.865236\n",
       "3 1989-01-04  14.417  0.886474 -0.462778\n",
       "4 1989-01-05  14.381 -0.423295 -0.905992"
      ]
     },
     "execution_count": 151,
     "metadata": {},
     "output_type": "execute_result"
    }
   ],
   "source": [
    "df_processed['time_sin'] = np.sin(df_processed['Date'].map(lambda x: x.value))\n",
    "df_processed.head(5)"
   ]
  },
  {
   "cell_type": "code",
   "execution_count": 157,
   "id": "9ec6e5cc-bd79-4487-88b5-480c3c09ace4",
   "metadata": {},
   "outputs": [
    {
     "data": {
      "text/plain": [
       "Timestamp('1989-01-01 00:00:00')"
      ]
     },
     "execution_count": 157,
     "metadata": {},
     "output_type": "execute_result"
    }
   ],
   "source": [
    "start_date = df_processed.Date.iloc[0]\n",
    "start_date"
   ]
  },
  {
   "cell_type": "code",
   "execution_count": 159,
   "id": "172ee1ac-7f6a-46c7-97dd-6ad972eac0ed",
   "metadata": {},
   "outputs": [],
   "source": [
    "from datetime import datetime, timedelta"
   ]
  },
  {
   "cell_type": "code",
   "execution_count": 160,
   "id": "e90d9e2e-53c3-4e40-9bd5-45e22e1633b3",
   "metadata": {},
   "outputs": [
    {
     "data": {
      "text/plain": [
       "Timestamp('1989-01-11 00:00:00')"
      ]
     },
     "execution_count": 160,
     "metadata": {},
     "output_type": "execute_result"
    }
   ],
   "source": [
    "start_date + timedelta(days=10)"
   ]
  },
  {
   "cell_type": "markdown",
   "id": "8dc66e3b-fbdd-40f4-97bc-69230422c566",
   "metadata": {},
   "source": [
    "## Plots"
   ]
  },
  {
   "cell_type": "code",
   "execution_count": 165,
   "id": "b471ad1b-0f75-4fe0-a4b5-b64c1f7de424",
   "metadata": {},
   "outputs": [
    {
     "data": {
      "image/png": "[encoded data removed]",
      "text/plain": [
       "<Figure size 600x800 with 3 Axes>"
      ]
     },
     "metadata": {},
     "output_type": "display_data"
    }
   ],
   "source": [
    "fig, ax = plt.subplots(3,1, figsize=(6,8), constrained_layout=True, sharex=True)\n",
    "sns.lineplot(df_processed, x = 'Date', y = 'time_cos', ax=ax[0])\n",
    "sns.lineplot(df_processed, x = 'Date', y = 'time_sin', ax=ax[1])\n",
    "sns.lineplot(df_processed, x = 'Date', y = 'Value', ax=ax[2])\n",
    "ax[0].set_xlim([start_date, start_date + timedelta(days=365)])\n",
    "plt.show()"
   ]
  },
  {
   "cell_type": "code",
   "execution_count": null,
   "id": "8f2ce917-e5e6-4dfc-aeab-b36d63854426",
   "metadata": {},
   "outputs": [],
   "source": []
  },
  {
   "cell_type": "markdown",
   "id": "9c3b9deb-126f-42bc-9e52-11d10e536fc6",
   "metadata": {},
   "source": [
    "## FFT"
   ]
  },
  {
   "cell_type": "code",
   "execution_count": 167,
   "id": "bb5e0a5a-866a-42eb-99ab-a1b45f52321a",
   "metadata": {},
   "outputs": [],
   "source": [
    "from scipy.fft import fft, ifft, fftfreq"
   ]
  },
  {
   "cell_type": "code",
   "execution_count": 168,
   "id": "602b4b2e-2eea-4a64-85d7-c6aeee2a8d18",
   "metadata": {},
   "outputs": [],
   "source": [
    "fft_seaice = fft(df_processed.Value)"
   ]
  },
  {
   "cell_type": "code",
   "execution_count": 176,
   "id": "0e879b95-f6f2-4b6b-b5c4-c7baaa32bc81",
   "metadata": {},
   "outputs": [
    {
     "data": {
      "text/plain": [
       "13165"
      ]
     },
     "execution_count": 176,
     "metadata": {},
     "output_type": "execute_result"
    }
   ],
   "source": [
    "len(fft_seaice)"
   ]
  },
  {
   "cell_type": "code",
   "execution_count": 177,
   "id": "3a65327c-2cdd-42d2-bd28-39b6665d3762",
   "metadata": {},
   "outputs": [
    {
     "data": {
      "text/plain": [
       "13165"
      ]
     },
     "execution_count": 177,
     "metadata": {},
     "output_type": "execute_result"
    }
   ],
   "source": [
    "len(df_processed)"
   ]
  },
  {
   "cell_type": "code",
   "execution_count": 179,
   "id": "acb0db99-b84e-4c03-abb3-2bdb93c73740",
   "metadata": {},
   "outputs": [],
   "source": [
    "sampling_rate = 1/86400 # Hz"
   ]
  },
  {
   "cell_type": "code",
   "execution_count": 178,
   "id": "0dd963cb-b5ff-49cc-b05a-800824d7c208",
   "metadata": {},
   "outputs": [
    {
     "data": {
      "text/plain": [
       "array([ 0.00000000e+00,  8.79154886e-10,  1.75830977e-09, ...,\n",
       "       -2.63746466e-09, -1.75830977e-09, -8.79154886e-10], shape=(13165,))"
      ]
     },
     "execution_count": 178,
     "metadata": {},
     "output_type": "execute_result"
    }
   ],
   "source": [
    "freq_values_scipy = fftfreq(len(fft_seaice), d = 86400)\n",
    "freq_values_scipy"
   ]
  },
  {
   "cell_type": "code",
   "execution_count": 181,
   "id": "3b5bf28b-5c8b-45f7-851c-73aea9118f3e",
   "metadata": {},
   "outputs": [
    {
     "data": {
      "text/plain": [
       "np.float64(5.786597459594041e-06)"
      ]
     },
     "execution_count": 181,
     "metadata": {},
     "output_type": "execute_result"
    }
   ],
   "source": [
    "freq_values_scipy.max()"
   ]
  },
  {
   "cell_type": "code",
   "execution_count": 183,
   "id": "3dd30711-6d19-41e3-8a8c-c512e4851d63",
   "metadata": {},
   "outputs": [
    {
     "data": {
      "text/plain": [
       "np.float64(-5.786597459594041e-06)"
      ]
     },
     "execution_count": 183,
     "metadata": {},
     "output_type": "execute_result"
    }
   ],
   "source": [
    "freq_values_scipy.min()"
   ]
  },
  {
   "cell_type": "code",
   "execution_count": 184,
   "id": "fe0cdbd4-f107-4eaf-a193-39a4c29eba98",
   "metadata": {},
   "outputs": [
    {
     "data": {
      "text/plain": [
       "array([-5.78747661e-06, -5.78659746e-06, -5.78571830e-06, ...,\n",
       "        5.78395999e-06,  5.78483915e-06,  5.78571830e-06], shape=(13165,))"
      ]
     },
     "execution_count": 184,
     "metadata": {},
     "output_type": "execute_result"
    }
   ],
   "source": [
    "freq_values = np.arange(-len(fft_seaice)//2, len(fft_seaice)//2)/len(fft_seaice)*sampling_rate\n",
    "freq_values"
   ]
  },
  {
   "cell_type": "code",
   "execution_count": 247,
   "id": "2c29d6ed-011a-43e5-8e61-66479fcd4e97",
   "metadata": {},
   "outputs": [
    {
     "name": "stderr",
     "output_type": "stream",
     "text": [
      "/tmp/ipykernel_61488/3666623109.py:1: RuntimeWarning: divide by zero encountered in divide\n",
      "  freq_in_periods = 1/freq_values_scipy*sampling_rate\n"
     ]
    },
    {
     "data": {
      "text/plain": [
       "array([            inf,  13165.        ,   6582.5       , ...,\n",
       "        -4388.33333333,  -6582.5       , -13165.        ], shape=(13165,))"
      ]
     },
     "execution_count": 247,
     "metadata": {},
     "output_type": "execute_result"
    }
   ],
   "source": [
    "freq_in_periods = 1/freq_values_scipy*sampling_rate\n",
    "freq_in_periods"
   ]
  },
  {
   "cell_type": "code",
   "execution_count": null,
   "id": "7284d8ad-ebe8-45ec-a9d4-c800f9c52fca",
   "metadata": {},
   "outputs": [],
   "source": []
  },
  {
   "cell_type": "markdown",
   "id": "552b805d-6f78-45d0-8ec9-da38c0753f92",
   "metadata": {},
   "source": [
    "## FFT plot"
   ]
  },
  {
   "cell_type": "code",
   "execution_count": 254,
   "id": "55263d6f-06a6-451a-af98-7c18595f6fd5",
   "metadata": {},
   "outputs": [
    {
     "data": {
      "image/png": "[encoded data removed]",
      "text/plain": [
       "<Figure size 600x600 with 2 Axes>"
      ]
     },
     "metadata": {},
     "output_type": "display_data"
    }
   ],
   "source": [
    "fig, ax = plt.subplots(2,1, figsize=(6, 6), constrained_layout=True)\n",
    "\n",
    "ax[0].plot(freq_values_scipy[: len(fft_seaice)//2], np.abs(fft_seaice[: len(fft_seaice)//2]), 'b', label=\"Amplitude\")\n",
    "ax[1].plot(freq_in_periods[:len(fft_seaice)//2], np.abs(fft_seaice[:len(fft_seaice)//2]), 'r', label=\"Amplitude\")\n",
    "ax[0].set_xlim([0, 5*10**(-8)])\n",
    "ax[1].set_xlim([0, 370])\n",
    "# ax[1].set_ylim([0,50000])\n",
    "plt.show()\n"
   ]
  },
  {
   "cell_type": "markdown",
   "id": "036ece74-4887-4d0d-ad98-3b2fc4c7019e",
   "metadata": {},
   "source": [
    "### NOTE\n",
    "\n",
    "* frequencies above 365 can be deleted"
   ]
  },
  {
   "cell_type": "markdown",
   "id": "21950f8d-cf90-4569-9740-bccde690c5e1",
   "metadata": {},
   "source": [
    "## TOP 3 frequencies"
   ]
  },
  {
   "cell_type": "code",
   "execution_count": 264,
   "id": "f10e7881-59b7-49b4-8e21-9e1347dff4c5",
   "metadata": {},
   "outputs": [],
   "source": [
    "freq_in_periods_onehalf = freq_in_periods[:len(fft_seaice)//2].copy()"
   ]
  },
  {
   "cell_type": "code",
   "execution_count": 266,
   "id": "ca64d0d4-0e77-40c9-87a1-dd5bc652dd33",
   "metadata": {},
   "outputs": [
    {
     "data": {
      "text/plain": [
       "array([           inf, 1.31650000e+04, 6.58250000e+03, ...,\n",
       "       2.00106399e+00, 2.00075988e+00, 2.00045586e+00], shape=(6582,))"
      ]
     },
     "execution_count": 266,
     "metadata": {},
     "output_type": "execute_result"
    }
   ],
   "source": [
    "freq_in_periods_onehalf"
   ]
  },
  {
   "cell_type": "code",
   "execution_count": 267,
   "id": "1fc46342-185b-4de1-bb1f-d9c4c6b981c4",
   "metadata": {},
   "outputs": [
    {
     "data": {
      "text/plain": [
       "array([            inf,  13165.        ,   6582.5       , ...,\n",
       "        -4388.33333333,  -6582.5       , -13165.        ], shape=(13165,))"
      ]
     },
     "execution_count": 267,
     "metadata": {},
     "output_type": "execute_result"
    }
   ],
   "source": [
    "freq_in_periods"
   ]
  },
  {
   "cell_type": "code",
   "execution_count": 227,
   "id": "e4733703-ae80-4e13-a189-0b43ed955191",
   "metadata": {},
   "outputs": [
    {
     "data": {
      "text/plain": [
       "array([   0,    1,    2, ..., 6579, 6580, 6581], shape=(6582,))"
      ]
     },
     "execution_count": 227,
     "metadata": {},
     "output_type": "execute_result"
    }
   ],
   "source": [
    "sorted_indices = freq_in_periods_onehalf.argsort()\n",
    "sorted_indices"
   ]
  },
  {
   "cell_type": "code",
   "execution_count": 229,
   "id": "7e692d87-50c3-4668-91ee-da845da9a7c4",
   "metadata": {},
   "outputs": [
    {
     "data": {
      "text/plain": [
       "array([   0,    1,    2, ..., 6579, 6580, 6581], shape=(6582,))"
      ]
     },
     "execution_count": 229,
     "metadata": {},
     "output_type": "execute_result"
    }
   ],
   "source": [
    "np.argsort(freq_in_periods_onehalf)"
   ]
  },
  {
   "cell_type": "code",
   "execution_count": 279,
   "id": "9f98aeb1-3d9f-4706-95af-c424808155bd",
   "metadata": {},
   "outputs": [],
   "source": [
    "fft_values_scipy_onehalf = fft_seaice[:len(fft_seaice)//2].copy()"
   ]
  },
  {
   "cell_type": "code",
   "execution_count": 320,
   "id": "59a4738c-bf65-4f5d-8add-e2be50946ace",
   "metadata": {},
   "outputs": [
    {
     "data": {
      "text/plain": [
       "array([365.69444444, 355.81081081, 346.44736842, 337.56410256,\n",
       "       329.125     , 321.09756098, 313.45238095, 306.1627907 ,\n",
       "       299.20454545, 292.55555556, 286.19565217, 280.10638298,\n",
       "       274.27083333, 268.67346939, 263.3       , 258.1372549 ,\n",
       "       253.17307692, 248.39622642, 243.7962963 , 239.36363636,\n",
       "       235.08928571, 230.96491228, 226.98275862, 223.13559322,\n",
       "       219.41666667, 215.81967213, 212.33870968, 208.96825397,\n",
       "       205.703125  , 202.53846154])"
      ]
     },
     "execution_count": 320,
     "metadata": {},
     "output_type": "execute_result"
    }
   ],
   "source": [
    "freq_in_periods_onehalf[(freq_in_periods_onehalf < 370) & (freq_in_periods_onehalf > 200)]"
   ]
  },
  {
   "cell_type": "markdown",
   "id": "ed50156c-699e-4b4a-a02c-3c29d1c4118e",
   "metadata": {},
   "source": [
    "### abs(fft_values_scipy_onehalf[(freq_in_periods_onehalf < 370) & (freq_in_periods_onehalf > 100)])"
   ]
  },
  {
   "cell_type": "code",
   "execution_count": 281,
   "id": "0ff96b32-d7f0-422f-a676-60a24bcc4139",
   "metadata": {},
   "outputs": [
    {
     "data": {
      "text/plain": [
       "np.int64(35)"
      ]
     },
     "execution_count": 281,
     "metadata": {},
     "output_type": "execute_result"
    }
   ],
   "source": [
    "abs(fft_values_scipy_onehalf[1:]).argmax()"
   ]
  },
  {
   "cell_type": "code",
   "execution_count": 273,
   "id": "e89b49d8-8782-4ab5-9b03-b4a34db7a691",
   "metadata": {},
   "outputs": [
    {
     "data": {
      "text/plain": [
       "np.float64(365.69444444444446)"
      ]
     },
     "execution_count": 273,
     "metadata": {},
     "output_type": "execute_result"
    }
   ],
   "source": [
    "freq_in_periods_onehalf[35+1]"
   ]
  },
  {
   "cell_type": "code",
   "execution_count": 274,
   "id": "1cc8f1bb-4951-47c0-8faf-47e74f2c43ef",
   "metadata": {
    "scrolled": true
   },
   "outputs": [
    {
     "data": {
      "text/plain": [
       "np.float64(365.69444444444446)"
      ]
     },
     "execution_count": 274,
     "metadata": {},
     "output_type": "execute_result"
    }
   ],
   "source": [
    "freq_in_periods[:len(fft_seaice)//2][35+1]"
   ]
  },
  {
   "cell_type": "code",
   "execution_count": 275,
   "id": "78fc23f4-0ab7-4e67-9480-1348ef356aea",
   "metadata": {},
   "outputs": [],
   "source": [
    "freq_values_scipy_onehalf = freq_values_scipy[: len(fft_seaice)//2].copy()"
   ]
  },
  {
   "cell_type": "code",
   "execution_count": 276,
   "id": "859fc00d-cd13-463b-ba54-ff4606df5688",
   "metadata": {},
   "outputs": [
    {
     "data": {
      "text/plain": [
       "np.float64(3.1649575895682995e-08)"
      ]
     },
     "execution_count": 276,
     "metadata": {},
     "output_type": "execute_result"
    }
   ],
   "source": [
    "freq_values_scipy_onehalf[35+1]"
   ]
  },
  {
   "cell_type": "code",
   "execution_count": null,
   "id": "de2d83cf-aea6-4a78-a71e-ca5bb809e4aa",
   "metadata": {},
   "outputs": [],
   "source": []
  },
  {
   "cell_type": "code",
   "execution_count": 284,
   "id": "15d798a9-b9c0-450a-b9d8-868addfebf98",
   "metadata": {},
   "outputs": [
    {
     "data": {
      "text/plain": [
       "array([34, 36,  0, 71, 35])"
      ]
     },
     "execution_count": 284,
     "metadata": {},
     "output_type": "execute_result"
    }
   ],
   "source": [
    "abs(fft_values_scipy_onehalf[1:]).argsort()[-5:]"
   ]
  },
  {
   "cell_type": "code",
   "execution_count": 285,
   "id": "e5409fa1-794c-4adf-bbfd-9c25326b0126",
   "metadata": {},
   "outputs": [
    {
     "data": {
      "text/plain": [
       "array([ 1945.12064507,  2476.51723232,  4871.69435037,  4977.46891079,\n",
       "       29817.77003393])"
      ]
     },
     "execution_count": 285,
     "metadata": {},
     "output_type": "execute_result"
    }
   ],
   "source": [
    "abs(fft_values_scipy_onehalf[1:])[abs(fft_values_scipy_onehalf[1:]).argsort()[-5:]]"
   ]
  },
  {
   "cell_type": "code",
   "execution_count": 287,
   "id": "57d8ab5a-42d5-4ae7-afbe-6d856cd424fd",
   "metadata": {},
   "outputs": [
    {
     "data": {
      "text/plain": [
       "array([387.20588235, 365.69444444,          inf, 185.42253521,\n",
       "       376.14285714])"
      ]
     },
     "execution_count": 287,
     "metadata": {},
     "output_type": "execute_result"
    }
   ],
   "source": [
    "freq_in_periods_onehalf[abs(fft_values_scipy_onehalf[1:]).argsort()[-5:]]"
   ]
  },
  {
   "cell_type": "code",
   "execution_count": null,
   "id": "5ae7b440-c0f9-4d80-80d3-d010d4c3eab5",
   "metadata": {},
   "outputs": [],
   "source": []
  },
  {
   "cell_type": "code",
   "execution_count": 288,
   "id": "a8eb681e-45e6-4ae3-b25f-faa95cd58aef",
   "metadata": {},
   "outputs": [
    {
     "data": {
      "text/plain": [
       "array([199.46969697, 196.49253731, 193.60294118, 190.79710145,\n",
       "       188.07142857, 185.42253521, 182.84722222, 180.34246575,\n",
       "       177.90540541, 175.53333333, 173.22368421, 170.97402597,\n",
       "       168.78205128, 166.64556962, 164.5625    , 162.5308642 ,\n",
       "       160.54878049, 158.61445783, 156.72619048, 154.88235294,\n",
       "       153.08139535, 151.32183908])"
      ]
     },
     "execution_count": 288,
     "metadata": {},
     "output_type": "execute_result"
    }
   ],
   "source": [
    "freq_in_periods_onehalf[(freq_in_periods_onehalf < 200) & (freq_in_periods_onehalf > 150)]"
   ]
  },
  {
   "cell_type": "code",
   "execution_count": 289,
   "id": "11af1cd6-b62b-4a57-aa61-99e16f1d3298",
   "metadata": {},
   "outputs": [
    {
     "data": {
      "text/plain": [
       "array([ 402.69962164,  172.96652021,  204.2006806 ,  237.19091387,\n",
       "        330.60713202,  947.80799644, 4977.46891079,  970.8682241 ,\n",
       "         58.94963786,  447.08319134,  164.9406382 ,  308.04062106,\n",
       "        178.57347081,   28.58684952,  319.98664494,  159.57103942,\n",
       "        288.83131387,   43.51711245,  277.72570844,  121.02082522,\n",
       "        181.00309957,  219.54492203])"
      ]
     },
     "execution_count": 289,
     "metadata": {},
     "output_type": "execute_result"
    }
   ],
   "source": [
    "abs(fft_values_scipy_onehalf[(freq_in_periods_onehalf < 200) & (freq_in_periods_onehalf > 150)])"
   ]
  },
  {
   "cell_type": "code",
   "execution_count": 304,
   "id": "fbb46c0c-a6f5-42ba-9bf3-75304a448c24",
   "metadata": {},
   "outputs": [
    {
     "data": {
      "text/plain": [
       "np.int64(6)"
      ]
     },
     "execution_count": 304,
     "metadata": {},
     "output_type": "execute_result"
    }
   ],
   "source": [
    "abs(fft_values_scipy_onehalf[(freq_in_periods_onehalf < 200) & (freq_in_periods_onehalf > 150)]).argmax()"
   ]
  },
  {
   "cell_type": "code",
   "execution_count": 305,
   "id": "57e7ae03-fee1-4ad4-b99d-984dc1f461cf",
   "metadata": {},
   "outputs": [
    {
     "data": {
      "text/plain": [
       "np.float64(182.84722222222223)"
      ]
     },
     "execution_count": 305,
     "metadata": {},
     "output_type": "execute_result"
    }
   ],
   "source": [
    "freq_in_periods_onehalf[(freq_in_periods_onehalf < 200) & (freq_in_periods_onehalf > 150)][_]"
   ]
  },
  {
   "cell_type": "code",
   "execution_count": 306,
   "id": "12411b4a-46e5-4b50-8521-f946cc99d8d0",
   "metadata": {},
   "outputs": [
    {
     "data": {
      "text/plain": [
       "array([72])"
      ]
     },
     "execution_count": 306,
     "metadata": {},
     "output_type": "execute_result"
    }
   ],
   "source": [
    "np.argwhere(freq_in_periods_onehalf == _)[0]"
   ]
  },
  {
   "cell_type": "code",
   "execution_count": 307,
   "id": "d54db3d3-2e9d-4cd5-81eb-f31362bc2ba7",
   "metadata": {},
   "outputs": [
    {
     "data": {
      "text/plain": [
       "array([4977.46891079])"
      ]
     },
     "execution_count": 307,
     "metadata": {},
     "output_type": "execute_result"
    }
   ],
   "source": [
    "abs(fft_values_scipy_onehalf)[_]"
   ]
  },
  {
   "cell_type": "code",
   "execution_count": null,
   "id": "2b9683ef-3805-4e1f-9d72-da3e60440c8e",
   "metadata": {},
   "outputs": [],
   "source": []
  },
  {
   "cell_type": "code",
   "execution_count": 314,
   "id": "cea1c9ae-ab99-42c2-9b78-9c1d4a3b8b9b",
   "metadata": {},
   "outputs": [
    {
     "data": {
      "text/plain": [
       "np.int64(20)"
      ]
     },
     "execution_count": 314,
     "metadata": {},
     "output_type": "execute_result"
    }
   ],
   "source": [
    "abs(fft_values_scipy_onehalf[(freq_in_periods_onehalf < 150) & (freq_in_periods_onehalf > 100)]).argmax()"
   ]
  },
  {
   "cell_type": "code",
   "execution_count": 315,
   "id": "0690e396-7d05-477a-8ec9-6b56b655b65e",
   "metadata": {},
   "outputs": [
    {
     "data": {
      "text/plain": [
       "np.float64(121.89814814814814)"
      ]
     },
     "execution_count": 315,
     "metadata": {},
     "output_type": "execute_result"
    }
   ],
   "source": [
    "freq_in_periods_onehalf[(freq_in_periods_onehalf < 150) & (freq_in_periods_onehalf > 100)][_]"
   ]
  },
  {
   "cell_type": "code",
   "execution_count": 316,
   "id": "f06c60f4-ce0a-40cc-8678-7e67aaca6a10",
   "metadata": {},
   "outputs": [
    {
     "data": {
      "text/plain": [
       "array([108])"
      ]
     },
     "execution_count": 316,
     "metadata": {},
     "output_type": "execute_result"
    }
   ],
   "source": [
    "np.argwhere(freq_in_periods_onehalf == _)[0]"
   ]
  },
  {
   "cell_type": "code",
   "execution_count": 317,
   "id": "1f601751-a4b0-407b-b858-22546e9f47a9",
   "metadata": {},
   "outputs": [
    {
     "data": {
      "text/plain": [
       "array([1841.67558815])"
      ]
     },
     "execution_count": 317,
     "metadata": {},
     "output_type": "execute_result"
    }
   ],
   "source": [
    "abs(fft_values_scipy_onehalf)[_]"
   ]
  },
  {
   "cell_type": "code",
   "execution_count": null,
   "id": "a912374a-300a-4f42-92af-16594c84d757",
   "metadata": {},
   "outputs": [],
   "source": []
  },
  {
   "cell_type": "code",
   "execution_count": 322,
   "id": "9f23bc94-c246-4a45-b36e-04dccb2665e9",
   "metadata": {},
   "outputs": [
    {
     "data": {
      "text/plain": [
       "np.int64(0)"
      ]
     },
     "execution_count": 322,
     "metadata": {},
     "output_type": "execute_result"
    }
   ],
   "source": [
    "abs(fft_values_scipy_onehalf[(freq_in_periods_onehalf < 370) & (freq_in_periods_onehalf > 200)]).argmax()"
   ]
  },
  {
   "cell_type": "code",
   "execution_count": 323,
   "id": "a9015faf-a3b0-47c7-9f71-e7816005a207",
   "metadata": {},
   "outputs": [
    {
     "data": {
      "text/plain": [
       "np.float64(365.69444444444446)"
      ]
     },
     "execution_count": 323,
     "metadata": {},
     "output_type": "execute_result"
    }
   ],
   "source": [
    "freq_in_periods_onehalf[(freq_in_periods_onehalf < 370) & (freq_in_periods_onehalf > 200)][_]"
   ]
  },
  {
   "cell_type": "code",
   "execution_count": 324,
   "id": "7c064acb-c4ab-4f4b-8a83-b1fe0eb4b6e6",
   "metadata": {},
   "outputs": [
    {
     "data": {
      "text/plain": [
       "array([36])"
      ]
     },
     "execution_count": 324,
     "metadata": {},
     "output_type": "execute_result"
    }
   ],
   "source": [
    "np.argwhere(freq_in_periods_onehalf == _)[0]"
   ]
  },
  {
   "cell_type": "code",
   "execution_count": 325,
   "id": "cc1ef1d2-0d64-47b3-8759-5dcd9d7ea903",
   "metadata": {},
   "outputs": [
    {
     "data": {
      "text/plain": [
       "array([29817.77003393])"
      ]
     },
     "execution_count": 325,
     "metadata": {},
     "output_type": "execute_result"
    }
   ],
   "source": [
    "abs(fft_values_scipy_onehalf)[_]"
   ]
  },
  {
   "cell_type": "code",
   "execution_count": null,
   "id": "7bac4557-02b8-4891-baf5-d67ff10e13ed",
   "metadata": {},
   "outputs": [],
   "source": []
  }
 ],
 "metadata": {
  "kernelspec": {
   "display_name": "opendatasciencesandbox",
   "language": "python",
   "name": "opendatasciencesandbox"
  },
  "language_info": {
   "codemirror_mode": {
    "name": "ipython",
    "version": 3
   },
   "file_extension": ".py",
   "mimetype": "text/x-python",
   "name": "python",
   "nbconvert_exporter": "python",
   "pygments_lexer": "ipython3",
   "version": "3.11.11"
  }
 },
 "nbformat": 4,
 "nbformat_minor": 5
}
